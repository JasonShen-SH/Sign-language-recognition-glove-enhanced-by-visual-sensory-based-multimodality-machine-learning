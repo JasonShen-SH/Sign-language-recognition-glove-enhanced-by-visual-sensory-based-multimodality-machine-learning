{
 "cells": [
  {
   "cell_type": "code",
   "execution_count": null,
   "id": "24e340b2",
   "metadata": {},
   "outputs": [],
   "source": [
    "'''\n",
    "本地应该先用串口COM3，来接收数据\n",
    "'''"
   ]
  },
  {
   "cell_type": "code",
   "execution_count": null,
   "id": "ba44de67",
   "metadata": {},
   "outputs": [],
   "source": [
    "'''\n",
    "给板子烧录的arduino程序,只负责简单的读取\n",
    "如果想实现采集一段时间内的平均值，在python里实现\n",
    "'''\n",
    "import serial\n",
    "import time\n",
    "\n",
    "'''\n",
    "以下,计算5秒内采样到的上百组数据平均值\n",
    "'''\n",
    "data = []\n",
    "\n",
    "ser=serial.Serial(\"COM6\",9600,timeout=1)\n",
    "start=time.time()\n",
    "while 1:\n",
    "    value=ser.readline().decode(\"utf-8\")\n",
    "    value=value.split(\" \") # 让每个数据呈现出来\n",
    "    if value[0]!='' and len(value)==11: # 当每组数据是正常时\n",
    "        print(value)"
   ]
  },
  {
   "cell_type": "code",
   "execution_count": null,
   "id": "ec0c3c65",
   "metadata": {},
   "outputs": [],
   "source": [
    "'''\n",
    "给板子烧录的arduino程序,只负责简单的读取\n",
    "如果想实现采集一段时间内的平均值，在python里实现\n",
    "'''\n",
    "import serial\n",
    "import time\n",
    "\n",
    "'''\n",
    "以下,计算5秒内采样到的上百组数据平均值\n",
    "'''\n",
    "data = []\n",
    "\n",
    "ser=serial.Serial(\"COM6\",9600,timeout=1)\n",
    "start=time.time()\n",
    "while 1:\n",
    "    value = ser.readline().decode(\"utf-8\")\n",
    "    print(value)\n",
    "    # 处理数据\n",
    "    value = value.split(\" \")\n",
    "    if value[0]!='':\n",
    "        # value[7] = value[7].split('\\r\\n')\n",
    "        value = value[0:11]\n",
    "        data.append(value)\n",
    "    end=time.time()\n",
    "    if end-start>5: # 每隔5秒记录一次\n",
    "        break"
   ]
  },
  {
   "cell_type": "code",
   "execution_count": null,
   "id": "4348b0a0",
   "metadata": {},
   "outputs": [],
   "source": [
    "'''\n",
    "接受完数据后，向云端发送\n",
    "'''"
   ]
  },
  {
   "cell_type": "code",
   "execution_count": 1,
   "id": "6294b27e",
   "metadata": {},
   "outputs": [],
   "source": [
    "import socket"
   ]
  },
  {
   "cell_type": "code",
   "execution_count": 2,
   "id": "85945a6a",
   "metadata": {},
   "outputs": [],
   "source": [
    "tcp_client = socket.socket(socket.AF_INET,socket.SOCK_STREAM)"
   ]
  },
  {
   "cell_type": "code",
   "execution_count": 3,
   "id": "bff944bd",
   "metadata": {},
   "outputs": [],
   "source": [
    "tcp_client.connect((\"8.210.48.223\",8267))"
   ]
  },
  {
   "cell_type": "code",
   "execution_count": 4,
   "id": "2158ea55",
   "metadata": {},
   "outputs": [],
   "source": [
    "send_data=\"16.919655172413798, 16.66241379310345, 16.83137931034483, 17.30482758620689, 17.160517241379306, -0.039310344827586226, 0.12775862068965507, 0.9843103448275863, 7.163103448275865, 2.0424137931034463, -135.65448275862065\".encode(encoding='utf-8')"
   ]
  },
  {
   "cell_type": "code",
   "execution_count": 5,
   "id": "3068ced8",
   "metadata": {},
   "outputs": [
    {
     "data": {
      "text/plain": [
       "219"
      ]
     },
     "execution_count": 5,
     "metadata": {},
     "output_type": "execute_result"
    }
   ],
   "source": [
    "tcp_client.send(send_data)"
   ]
  },
  {
   "cell_type": "code",
   "execution_count": 6,
   "id": "b5559e2a",
   "metadata": {},
   "outputs": [],
   "source": [
    "recv_data = tcp_client.recv(1024)"
   ]
  },
  {
   "cell_type": "code",
   "execution_count": 7,
   "id": "04706d57",
   "metadata": {},
   "outputs": [
    {
     "name": "stdout",
     "output_type": "stream",
     "text": [
      "thanks client! Your message is received\n"
     ]
    }
   ],
   "source": [
    "print(recv_data.decode(encoding='utf-8'))"
   ]
  },
  {
   "cell_type": "code",
   "execution_count": null,
   "id": "679fd376",
   "metadata": {},
   "outputs": [],
   "source": []
  }
 ],
 "metadata": {
  "kernelspec": {
   "display_name": "Python 3 (ipykernel)",
   "language": "python",
   "name": "python3"
  },
  "language_info": {
   "codemirror_mode": {
    "name": "ipython",
    "version": 3
   },
   "file_extension": ".py",
   "mimetype": "text/x-python",
   "name": "python",
   "nbconvert_exporter": "python",
   "pygments_lexer": "ipython3",
   "version": "3.9.13"
  }
 },
 "nbformat": 4,
 "nbformat_minor": 5
}
