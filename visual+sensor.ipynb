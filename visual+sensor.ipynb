{
 "cells": [
  {
   "cell_type": "code",
   "execution_count": 20,
   "id": "d0d28b20-d0f7-49a6-b91b-f31dab2f40d6",
   "metadata": {},
   "outputs": [],
   "source": [
    "visual = torch.load(\"/root/nonshuffle-rawDatasets.pt\")"
   ]
  },
  {
   "cell_type": "code",
   "execution_count": 29,
   "id": "dbe8d4b1-cfd6-4729-b103-2e7da8625e90",
   "metadata": {},
   "outputs": [
    {
     "name": "stdout",
     "output_type": "stream",
     "text": [
      "torch.Size([2666, 150529])\n"
     ]
    }
   ],
   "source": [
    "tmp_visual = visual[0:2666,:].shape"
   ]
  },
  {
   "cell_type": "code",
   "execution_count": null,
   "id": "631fd66d-af79-4667-9ec2-90f553668bc0",
   "metadata": {},
   "outputs": [],
   "source": []
  },
  {
   "cell_type": "code",
   "execution_count": 26,
   "id": "6acfa0b7-f043-47dc-9c64-7f379c59bdb9",
   "metadata": {},
   "outputs": [],
   "source": [
    "labelName = [\"bowl\", \"dog\", \"feel\", \"get\", \"I\", \"know\", \"must\", \"sick\", \"you\", \"zero\"]\n",
    "sensor_data = np.load(\"data/%s.npy\" % labelName[0])"
   ]
  },
  {
   "cell_type": "code",
   "execution_count": 27,
   "id": "cb9f43bb-1d90-4df3-b640-7ca94e045bd2",
   "metadata": {},
   "outputs": [
    {
     "name": "stdout",
     "output_type": "stream",
     "text": [
      "(2666, 11)\n"
     ]
    }
   ],
   "source": [
    "print(sensor_data.shape)"
   ]
  },
  {
   "cell_type": "code",
   "execution_count": null,
   "id": "145e7d83-ceb3-49fe-8a6a-26f178a4df20",
   "metadata": {},
   "outputs": [],
   "source": [
    "tensorDataSets = torch.concat((sensor_data, tmp_visual), dim=-1)"
   ]
  },
  {
   "cell_type": "code",
   "execution_count": 1,
   "id": "2fd89cc3-2b9a-48bd-9c16-a7455e59856d",
   "metadata": {},
   "outputs": [
    {
     "name": "stderr",
     "output_type": "stream",
     "text": [
      "/root/miniconda3/envs/myconda/lib/python3.9/site-packages/tqdm/auto.py:22: TqdmWarning: IProgress not found. Please update jupyter and ipywidgets. See https://ipywidgets.readthedocs.io/en/stable/user_install.html\n",
      "  from .autonotebook import tqdm as notebook_tqdm\n"
     ]
    }
   ],
   "source": [
    "import torch\n",
    "import torch.nn as nn\n",
    "import torch.nn.functional as F\n",
    "import torch.optim as optim\n",
    "import numpy as np\n",
    "from torch.utils.data import TensorDataset, DataLoader\n",
    "import matplotlib.pyplot as plt\n",
    "\n",
    "labelName = [\"bowl\", \"dog\", \"feel\", \"get\", \"I\", \"know\", \"must\", \"sick\", \"you\", \"zero\"]\n",
    "labelBias = [128, 51, 72, 91, 114, 152, 129, 110, 145, 132]\n",
    "labelCount = [2666, 2736, 2702, 2681, 2605, 2535, 2637, 2647, 2621, 2617]\n",
    "labelBegin = [0,2666,5402,8104,10785,13390,15925,18562,21209,23830, 26447] #最终是26447\n",
    "\n",
    "device = torch.device(\"cuda\")\n",
    "\n",
    "visual = torch.load(\"/root/nonshuffle-rawDatasets.pt\")\n",
    "\n",
    "count = 0\n",
    "tensorDataSets = []\n",
    "rawDataSets = []\n",
    "\n",
    "for k in range(len(labelName)):\n",
    "    sensor_data = np.load(\"data/%s.npy\" %(labelName[k])) # Dimension M * 11, (第一组bowl,M=2666)\n",
    "    sensor_data = torch.tensor(sensor_data, dtype=torch.float32)\n",
    "    tmp_visual=visual[labelBegin[k]:labelBegin[k+1],:]\n",
    "    tensorDataSets = torch.concat((sensor_data, tmp_visual), dim=-1)\n",
    "    \n",
    "    # for i in range(len(sensor_data)):# 2666\n",
    "    #     # sensor\n",
    "    #     sensor=sensor_data[i] #numpy\n",
    "    #     tmp_sensor=torch.tensor(sensor)\n",
    "    #     # visual\n",
    "    #     tmp_visual=visual[labelBias[count]+i]\n",
    "    #     # sensor+visual\n",
    "    #     tmp=torch.concat((tmp_sensor,tmp_visual),dim=-1) # must be 1*(11+3*224*224+1)\n",
    "    #     if i==0:\n",
    "    #         tensorDataSets = tmp\n",
    "    #     else:\n",
    "    #         tensorDataSets = torch.concat((tensorDataSets, tmp), dim=0)\n",
    "        \n",
    "    if count==0:\n",
    "        rawDataSets = tensorDataSets\n",
    "    else:\n",
    "        rawDataSets = torch.concat((rawDataSets, tensorDataSets), dim=0)\n",
    "    count += 1\n",
    "\n",
    "torch.save(rawDataSets, \"/root/mix-rawDatasets-2.pt\") # this mix-raeDatasets is sequential, meaning that it's non-shuffle"
   ]
  },
  {
   "cell_type": "code",
   "execution_count": 1,
   "id": "227872b7-a501-4553-b659-13ed1f7be880",
   "metadata": {},
   "outputs": [
    {
     "name": "stderr",
     "output_type": "stream",
     "text": [
      "/root/miniconda3/envs/myconda/lib/python3.9/site-packages/tqdm/auto.py:22: TqdmWarning: IProgress not found. Please update jupyter and ipywidgets. See https://ipywidgets.readthedocs.io/en/stable/user_install.html\n",
      "  from .autonotebook import tqdm as notebook_tqdm\n"
     ]
    }
   ],
   "source": [
    "import torch\n",
    "import torch.nn as nn\n",
    "import torch.nn.functional as F\n",
    "import torch.optim as optim\n",
    "import numpy as np\n",
    "from torch.utils.data import TensorDataset, DataLoader\n",
    "import matplotlib.pyplot as plt\n",
    "\n",
    "mixDataSets = torch.load(\"/root/mix-rawDatasets-2.pt\") # shape: 26447*150540(11+3*224*224+1)\n",
    "mixDataSets = mixDataSets.to(dtype=torch.float32) # 内存"
   ]
  },
  {
   "cell_type": "code",
   "execution_count": 2,
   "id": "5e9dab88-fc87-4894-a578-d9071a8843e0",
   "metadata": {},
   "outputs": [],
   "source": [
    "mixDataSets = mixDataSets[torch.randperm(mixDataSets.size()[0])] #shuffle"
   ]
  },
  {
   "cell_type": "code",
   "execution_count": 39,
   "id": "d9457892-2fa9-4706-aae0-2789a9cf21c1",
   "metadata": {},
   "outputs": [
    {
     "name": "stdout",
     "output_type": "stream",
     "text": [
      "tensor([-1.0903,  0.6503,  0.2729,  ..., 30.0000, 34.0000,  0.0000])\n"
     ]
    }
   ],
   "source": [
    "print(mixDataSets[2665])"
   ]
  },
  {
   "cell_type": "code",
   "execution_count": 6,
   "id": "a9589446-5e9f-42fd-90a9-9667dd0669e4",
   "metadata": {},
   "outputs": [],
   "source": [
    "batchSize = 256\n",
    "device = torch.device(\"cuda\")\n",
    "\n",
    "totalCount = mixDataSets.shape[0] # must be 26447\n",
    "\n",
    "validatingData = mixDataSets[:, 0:-1].to(dtype=torch.float32).to(torch.device(\"cpu\"))\n",
    "validatingLabel = mixDataSets[:, -1].to(dtype=torch.long).to(torch.device(\"cpu\"))\n",
    "\n",
    "validatingDataSet = TensorDataset(validatingData, validatingLabel)\n",
    "\n",
    "val_dataloader = DataLoader(validatingDataSet, batch_size=batchSize, shuffle=True)"
   ]
  },
  {
   "cell_type": "code",
   "execution_count": 3,
   "id": "a8d76a7f-1624-4087-8628-ff74cfd2a6ab",
   "metadata": {},
   "outputs": [],
   "source": [
    "# the fc model\n",
    "\n",
    "import torch\n",
    "import torch.nn as nn\n",
    "import torch.nn.functional as F\n",
    "\n",
    "class FC(nn.Module):\n",
    "    def __init__(self):\n",
    "        super(FC, self).__init__()\n",
    "        self.hidden1=nn.Sequential(\n",
    "                nn.Linear(in_features=11,out_features=256,bias=True), # 20+5 / 20+11\n",
    "                nn.Dropout(p = 0.2),\n",
    "                nn.ReLU())\n",
    "        self.hidden2=nn.Sequential(\n",
    "                nn.Linear(in_features=256,out_features=128,bias=True),\n",
    "                nn.ReLU())\n",
    "        self.hidden3=nn.Sequential(\n",
    "                nn.Linear(in_features=128,out_features=100,bias=True),\n",
    "                nn.ReLU())\n",
    "        self.hidden4=nn.Sequential(\n",
    "                nn.Linear(in_features=100,out_features=10,bias=True),\n",
    "                nn.ReLU())\n",
    "\n",
    "    def forward(self,x):\n",
    "        x=self.hidden1(x)\n",
    "        x=self.hidden2(x)\n",
    "        x=self.hidden3(x)\n",
    "        output=self.hidden4(x)\n",
    "        return output"
   ]
  },
  {
   "cell_type": "code",
   "execution_count": 4,
   "id": "f3478238-b1ec-4031-8d87-78395e82d4f4",
   "metadata": {},
   "outputs": [],
   "source": [
    "# resnet-18 \n",
    "\n",
    "import torch\n",
    "import torch.nn as nn\n",
    "import torch.nn.functional as F\n",
    "\n",
    "#定义残差块ResBlock\n",
    "\n",
    "class ResBlock(nn.Module):\n",
    "    def __init__(self, inchannel, outchannel, identity_downsample=None, stride=1):\n",
    "        super(ResBlock, self).__init__()\n",
    "        \n",
    "        #这里定义了残差块内连续的2个卷积层\n",
    "        self.conv1 = nn.Conv2d(inchannel,outchannel,kernel_size=3,stride=stride,padding=1)\n",
    "        self.bn1 = nn.BatchNorm2d(outchannel)\n",
    "        self.conv2 = nn.Conv2d(outchannel,outchannel,kernel_size=3,stride=1,padding=1)\n",
    "        self.bn2 = nn.BatchNorm2d(outchannel)\n",
    "        self.relu = nn.ReLU()\n",
    "        self.identity_downsample = identity_downsample\n",
    "            \n",
    "    def forward(self, x):\n",
    "        identity = x\n",
    "        x = self.conv1(x)\n",
    "        x = self.bn1(x)\n",
    "        x = self.relu(x)\n",
    "        x = self.conv2(x)\n",
    "        x = self.bn2(x)\n",
    "        \n",
    "        # if identity_downsample is not None as default, then:\n",
    "        if self.identity_downsample is not None:\n",
    "            identity = self.identity_downsample(identity)\n",
    "        \n",
    "        x = x + identity\n",
    "        x = self.relu(x)\n",
    "        \n",
    "        return x"
   ]
  },
  {
   "cell_type": "code",
   "execution_count": 5,
   "id": "a03b9cf4-b35f-47d7-b5dd-ac0cea7ebff1",
   "metadata": {},
   "outputs": [],
   "source": [
    "class ResNet_18(nn.Module):\n",
    "    \n",
    "    def __init__(self, image_channels, num_classes):\n",
    "        \n",
    "        super(ResNet_18, self).__init__()\n",
    "        # self.in_channels = 64\n",
    "        self.conv1 = nn.Conv2d(image_channels, 64, kernel_size=7, stride=2, padding=3)\n",
    "        self.bn1 = nn.BatchNorm2d(64)\n",
    "        self.relu = nn.ReLU()\n",
    "        self.maxpool = nn.MaxPool2d(kernel_size=3, stride=2, padding=1)\n",
    "        \n",
    "        #resnet layers\n",
    "        self.layer1 = self.__make_layer(64, 64, stride=1)\n",
    "        self.layer2 = self.__make_layer(64, 128, stride=2)\n",
    "        self.layer3 = self.__make_layer(128, 256, stride=2)\n",
    "        self.layer4 = self.__make_layer(256, 512, stride=2)\n",
    "        \n",
    "        self.avgpool = nn.AdaptiveAvgPool2d((1, 1))\n",
    "        self.fc = nn.Linear(512, num_classes)\n",
    "        \n",
    "    def identity_downsample(self, in_channels, out_channels):\n",
    "        return nn.Sequential(\n",
    "            nn.Conv2d(in_channels, out_channels, kernel_size=3, stride=2, padding=1), \n",
    "            nn.BatchNorm2d(out_channels)\n",
    "        )  \n",
    "    \n",
    "    def __make_layer(self, in_channels, out_channels, stride):\n",
    "        \n",
    "        identity_downsample = None #默认是none,即identity-free shortcut\n",
    "        if stride != 1:\n",
    "            identity_downsample = self.identity_downsample(in_channels, out_channels)\n",
    "        #对于64-128.128-256.256-512的第一个block,有stride=2,且outchannel=2*inchannel；\n",
    "        #其他的block,64-64的全部2个,64-128的第2个，128-256的第2个，256-512的第2个，都是outchannel=inchannel\n",
    "            \n",
    "        return nn.Sequential(\n",
    "            ResBlock(in_channels, out_channels, identity_downsample=identity_downsample, stride=stride), \n",
    "            ResBlock(out_channels, out_channels)\n",
    "        )\n",
    "    \n",
    "    def forward(self, x):\n",
    "        x = x.reshape((-1, 3, 224, 224))\n",
    "        x = self.conv1(x)\n",
    "        x = self.bn1(x)\n",
    "        x = self.relu(x)\n",
    "        x = self.maxpool(x)\n",
    "        \n",
    "        x = self.layer1(x)\n",
    "        x = self.layer2(x)\n",
    "        x = self.layer3(x)\n",
    "        x = self.layer4(x)\n",
    "        \n",
    "        x = self.avgpool(x)\n",
    "        x = x.view(x.shape[0], -1)\n",
    "        x = self.fc(x)\n",
    "        return x \n",
    "    "
   ]
  },
  {
   "cell_type": "code",
   "execution_count": 10,
   "id": "58421544-9b27-4a1d-92cc-c680a6e89431",
   "metadata": {},
   "outputs": [
    {
     "name": "stderr",
     "output_type": "stream",
     "text": [
      "/tmp/ipykernel_142/656840264.py:32: UserWarning: Implicit dimension choice for softmax has been deprecated. Change the call to include dim=X as an argument.\n",
      "  outputs1 = F.softmax(sensor_model(features1))\n",
      "/tmp/ipykernel_142/656840264.py:33: UserWarning: Implicit dimension choice for softmax has been deprecated. Change the call to include dim=X as an argument.\n",
      "  outputs2 = F.softmax(visual_model(features2))\n"
     ]
    },
    {
     "name": "stdout",
     "output_type": "stream",
     "text": [
      "Epoch 1, Validating Accuracy: 100.0000%\n",
      "Epoch 2, Validating Accuracy: 100.0000%\n",
      "Epoch 3, Validating Accuracy: 100.0000%\n",
      "Epoch 4, Validating Accuracy: 100.0000%\n",
      "Epoch 5, Validating Accuracy: 100.0000%\n",
      "Epoch 6, Validating Accuracy: 100.0000%\n",
      "Epoch 7, Validating Accuracy: 100.0000%\n",
      "Epoch 8, Validating Accuracy: 100.0000%\n",
      "Epoch 9, Validating Accuracy: 100.0000%\n",
      "Epoch 10, Validating Accuracy: 100.0000%\n"
     ]
    },
    {
     "data": {
      "image/png": "[encoded data removed]",
      "text/plain": [
       "<Figure size 640x480 with 1 Axes>"
      ]
     },
     "metadata": {},
     "output_type": "display_data"
    }
   ],
   "source": [
    "import torch\n",
    "import torch.nn as nn\n",
    "import torch.nn.functional as F\n",
    "import torch.optim as optim\n",
    "import numpy as np\n",
    "from torch.utils.data import TensorDataset, DataLoader\n",
    "import matplotlib.pyplot as plt\n",
    "\n",
    "acc_val=[]\n",
    "\n",
    "device = torch.device(\"cuda\")\n",
    "sensor_model = torch.load(\"moving_sensor.pth\")\n",
    "visual_model = torch.load(\"moving_visual.pth\")\n",
    "sensor_model.to(device);visual_model.to(device)\n",
    "weight1=0.2\n",
    "weight2=0.8\n",
    "epoch=10\n",
    "\n",
    "iterr=[]\n",
    "for i in range(epoch):\n",
    "    iterr.append(i)\n",
    "    \n",
    "total = 0\n",
    "correct = 0\n",
    "    \n",
    "for epoch in range(epoch):\n",
    "    with torch.no_grad():\n",
    "        for i,(features,labels) in enumerate(val_dataloader):\n",
    "            features1=features[:,0:11].to(device)\n",
    "            features2=features[:,11:].to(device)\n",
    "            \n",
    "            outputs1 = F.softmax(sensor_model(features1))\n",
    "            outputs2 = F.softmax(visual_model(features2))\n",
    "            outputs = outputs1*weight1+outputs2*weight2\n",
    "            _, predicted = torch.max(outputs.data, 1)\n",
    "            \n",
    "            predicted=predicted.to(torch.device(\"cpu\"))\n",
    "            total += labels.size(0)\n",
    "            correct += (predicted == labels).sum().item()\n",
    "            \n",
    "    validatingAcc = 100 * correct / total\n",
    "    acc_val.append(validatingAcc)\n",
    "            \n",
    "    print(\"Epoch %d, Validating Accuracy: %.4lf%%\" %(epoch+1, validatingAcc))\n",
    "    \n",
    "plt.figure()\n",
    "plt.plot(iterr,acc_val)\n",
    "plt.title('Validating accuracy of moving-mix-weighted')\n",
    "plt.xlabel('epoch')\n",
    "plt.ylabel('training accuracy')\n",
    "plt.savefig('moving-mix-weighted.png')\n",
    "plt.show()"
   ]
  },
  {
   "cell_type": "code",
   "execution_count": 7,
   "id": "fdc31107-028b-42bd-bd62-7b9dfcd3e6ff",
   "metadata": {},
   "outputs": [
    {
     "name": "stderr",
     "output_type": "stream",
     "text": [
      "/tmp/ipykernel_552/2230375050.py:32: UserWarning: Implicit dimension choice for softmax has been deprecated. Change the call to include dim=X as an argument.\n",
      "  outputs1 = F.softmax(sensor_model(features1))\n",
      "/tmp/ipykernel_552/2230375050.py:33: UserWarning: Implicit dimension choice for softmax has been deprecated. Change the call to include dim=X as an argument.\n",
      "  outputs2 = F.softmax(visual_model(features2))\n"
     ]
    },
    {
     "name": "stdout",
     "output_type": "stream",
     "text": [
      "Epoch 1, Validating Accuracy: 100.0000%\n",
      "Epoch 2, Validating Accuracy: 100.0000%\n",
      "Epoch 3, Validating Accuracy: 100.0000%\n",
      "Epoch 4, Validating Accuracy: 100.0000%\n",
      "Epoch 5, Validating Accuracy: 100.0000%\n",
      "Epoch 6, Validating Accuracy: 100.0000%\n",
      "Epoch 7, Validating Accuracy: 100.0000%\n"
     ]
    },
    {
     "ename": "KeyboardInterrupt",
     "evalue": "",
     "output_type": "error",
     "traceback": [
      "\u001b[0;31m---------------------------------------------------------------------------\u001b[0m",
      "\u001b[0;31mKeyboardInterrupt\u001b[0m                         Traceback (most recent call last)",
      "\u001b[0;32m/tmp/ipykernel_552/2230375050.py\u001b[0m in \u001b[0;36m<cell line: 26>\u001b[0;34m()\u001b[0m\n\u001b[1;32m     35\u001b[0m             \u001b[0m_\u001b[0m\u001b[0;34m,\u001b[0m \u001b[0mpredicted\u001b[0m \u001b[0;34m=\u001b[0m \u001b[0mtorch\u001b[0m\u001b[0;34m.\u001b[0m\u001b[0mmax\u001b[0m\u001b[0;34m(\u001b[0m\u001b[0moutputs\u001b[0m\u001b[0;34m.\u001b[0m\u001b[0mdata\u001b[0m\u001b[0;34m,\u001b[0m \u001b[0;36m1\u001b[0m\u001b[0;34m)\u001b[0m\u001b[0;34m\u001b[0m\u001b[0;34m\u001b[0m\u001b[0m\n\u001b[1;32m     36\u001b[0m \u001b[0;34m\u001b[0m\u001b[0m\n\u001b[0;32m---> 37\u001b[0;31m             \u001b[0mpredicted\u001b[0m\u001b[0;34m=\u001b[0m\u001b[0mpredicted\u001b[0m\u001b[0;34m.\u001b[0m\u001b[0mto\u001b[0m\u001b[0;34m(\u001b[0m\u001b[0mtorch\u001b[0m\u001b[0;34m.\u001b[0m\u001b[0mdevice\u001b[0m\u001b[0;34m(\u001b[0m\u001b[0;34m\"cpu\"\u001b[0m\u001b[0;34m)\u001b[0m\u001b[0;34m)\u001b[0m\u001b[0;34m\u001b[0m\u001b[0;34m\u001b[0m\u001b[0m\n\u001b[0m\u001b[1;32m     38\u001b[0m             \u001b[0mtotal\u001b[0m \u001b[0;34m+=\u001b[0m \u001b[0mlabels\u001b[0m\u001b[0;34m.\u001b[0m\u001b[0msize\u001b[0m\u001b[0;34m(\u001b[0m\u001b[0;36m0\u001b[0m\u001b[0;34m)\u001b[0m\u001b[0;34m\u001b[0m\u001b[0;34m\u001b[0m\u001b[0m\n\u001b[1;32m     39\u001b[0m             \u001b[0mcorrect\u001b[0m \u001b[0;34m+=\u001b[0m \u001b[0;34m(\u001b[0m\u001b[0mpredicted\u001b[0m \u001b[0;34m==\u001b[0m \u001b[0mlabels\u001b[0m\u001b[0;34m)\u001b[0m\u001b[0;34m.\u001b[0m\u001b[0msum\u001b[0m\u001b[0;34m(\u001b[0m\u001b[0;34m)\u001b[0m\u001b[0;34m.\u001b[0m\u001b[0mitem\u001b[0m\u001b[0;34m(\u001b[0m\u001b[0;34m)\u001b[0m\u001b[0;34m\u001b[0m\u001b[0;34m\u001b[0m\u001b[0m\n",
      "\u001b[0;31mKeyboardInterrupt\u001b[0m: "
     ]
    }
   ],
   "source": [
    "import torch\n",
    "import torch.nn as nn\n",
    "import torch.nn.functional as F\n",
    "import torch.optim as optim\n",
    "import numpy as np\n",
    "from torch.utils.data import TensorDataset, DataLoader\n",
    "import matplotlib.pyplot as plt\n",
    "\n",
    "acc_val=[]\n",
    "\n",
    "device = torch.device(\"cuda\")\n",
    "sensor_model = torch.load(\"moving_sensor_new.pth\")\n",
    "visual_model = torch.load(\"moving_visual_new.pth\")\n",
    "sensor_model.to(device);visual_model.to(device)\n",
    "weight1=0.2\n",
    "weight2=0.8\n",
    "epoch=20\n",
    "\n",
    "iterr=[]\n",
    "for i in range(epoch):\n",
    "    iterr.append(i)\n",
    "    \n",
    "total = 0\n",
    "correct = 0\n",
    "    \n",
    "for epoch in range(epoch):\n",
    "    with torch.no_grad():\n",
    "        for i,(features,labels) in enumerate(val_dataloader):\n",
    "            features1=features[:,0:11].to(device)\n",
    "            features2=features[:,11:].to(device)\n",
    "            \n",
    "            outputs1 = F.softmax(sensor_model(features1))\n",
    "            outputs2 = F.softmax(visual_model(features2))\n",
    "            outputs = outputs1*weight1+outputs2*weight2\n",
    "            _, predicted = torch.max(outputs.data, 1)\n",
    "            \n",
    "            predicted=predicted.to(torch.device(\"cpu\"))\n",
    "            total += labels.size(0)\n",
    "            correct += (predicted == labels).sum().item()\n",
    "            \n",
    "    validatingAcc = 100 * correct / total\n",
    "    acc_val.append(validatingAcc)\n",
    "            \n",
    "    print(\"Epoch %d, Validating Accuracy: %.4lf%%\" %(epoch+1, validatingAcc))\n",
    "\n",
    "'''\n",
    "plt.figure()\n",
    "plt.plot(iterr,acc_val)\n",
    "plt.title('Validating accuracy of moving-mix-weighted')\n",
    "plt.xlabel('epoch')\n",
    "plt.ylabel('training accuracy')\n",
    "plt.savefig('moving-mix-weighted.png')\n",
    "plt.show()\n",
    "'''"
   ]
  },
  {
   "cell_type": "code",
   "execution_count": 51,
   "id": "71006aff-0e09-4f49-8e75-e679024712dd",
   "metadata": {},
   "outputs": [
    {
     "name": "stdout",
     "output_type": "stream",
     "text": [
      "tensor([-29.7466, -27.9178,   1.7009,   4.3177,  -4.3528,  -2.9691,  -9.2198,\n",
      "        -17.2982, -13.7748,  19.9190], device='cuda:0')\n",
      "tensor([[-0.1044,  0.1290, -0.0531,  0.3727, -0.0299,  0.2971, -0.4567,  0.2460,\n",
      "         -0.7617, -0.1386]], device='cuda:0')\n"
     ]
    }
   ],
   "source": [
    "import torch\n",
    "import torch.nn as nn\n",
    "import torch.nn.functional as F\n",
    "import torch.optim as optim\n",
    "import numpy as np\n",
    "from torch.utils.data import TensorDataset, DataLoader\n",
    "import matplotlib.pyplot as plt\n",
    "\n",
    "device = torch.device(\"cuda\")\n",
    "sensor_model = torch.load(\"moving_sensor_new.pth\")\n",
    "visual_model = torch.load(\"moving_visual_new.pth\")\n",
    "sensor_model.to(device)\n",
    "visual_model.to(device)\n",
    "\n",
    "\n",
    "with torch.no_grad():\n",
    "    feature=mixDataSets[26000][:-1].to(dtype=torch.float32).to(device)\n",
    "    label=mixDataSets[2701][-1].to(dtype=torch.long).to(device)\n",
    "    output1 = sensor_model(feature[0:11])\n",
    "    output2 = visual_model(feature[11:])\n",
    "    print(output1);print(output2)\n",
    " "
   ]
  },
  {
   "cell_type": "code",
   "execution_count": 53,
   "id": "caae83f7-13f6-4320-8085-9d04154f2d5a",
   "metadata": {},
   "outputs": [
    {
     "name": "stdout",
     "output_type": "stream",
     "text": [
      "tensor([-2.3010, -1.0485, -1.1663, -0.8899,  0.8169,  2.9259, -0.0405, -2.2350,\n",
      "         2.0172, -2.6765,  1.9647])\n"
     ]
    }
   ],
   "source": [
    "print(mixDataSets[0][0:11])"
   ]
  },
  {
   "cell_type": "code",
   "execution_count": null,
   "id": "0ed9b2be-8a4a-4475-a604-f41be0406b2c",
   "metadata": {},
   "outputs": [],
   "source": [
    "0.2648,  0.2256,  0.0425,  0.4696, -0.0106,  0.2231, -0.3666,  0.1295,\n",
    "         -0.8173, -0.3379"
   ]
  }
 ],
 "metadata": {
  "kernelspec": {
   "display_name": "myconda",
   "language": "python",
   "name": "myconda"
  },
  "language_info": {
   "codemirror_mode": {
    "name": "ipython",
    "version": 3
   },
   "file_extension": ".py",
   "mimetype": "text/x-python",
   "name": "python",
   "nbconvert_exporter": "python",
   "pygments_lexer": "ipython3",
   "version": "3.9.13"
  }
 },
 "nbformat": 4,
 "nbformat_minor": 5
}
