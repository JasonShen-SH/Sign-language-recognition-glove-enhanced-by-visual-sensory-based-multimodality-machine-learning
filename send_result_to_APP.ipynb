{
 "cells": [
  {
   "cell_type": "code",
   "execution_count": 1,
   "id": "b9034bf0",
   "metadata": {},
   "outputs": [],
   "source": [
    "import socket\n",
    "import sys"
   ]
  },
  {
   "cell_type": "code",
   "execution_count": 2,
   "id": "adbe8774",
   "metadata": {},
   "outputs": [],
   "source": [
    "s = socket.socket(socket.AF_INET, socket.SOCK_STREAM)\n",
    "#print(socket.gethostname())"
   ]
  },
  {
   "cell_type": "code",
   "execution_count": 3,
   "id": "67bf7c22",
   "metadata": {},
   "outputs": [],
   "source": [
    "#获取主机名\n",
    "#host='192.168.137.1'家里\n",
    "#host='192.168.10.16'宿舍里\n",
    "#host='172.25.7.69'#工位\n",
    "host='0.0.0.0'\n",
    "port=6000\n",
    "s.bind((host,port))"
   ]
  },
  {
   "cell_type": "code",
   "execution_count": 4,
   "id": "59a8cb20",
   "metadata": {},
   "outputs": [],
   "source": [
    "# 设置最大连接数，超过后排队\n",
    "s.listen(5)"
   ]
  },
  {
   "cell_type": "code",
   "execution_count": null,
   "id": "d65d509f",
   "metadata": {},
   "outputs": [
    {
     "name": "stdout",
     "output_type": "stream",
     "text": [
      "连接地址: ('58.208.192.149', 47708)\n"
     ]
    }
   ],
   "source": [
    "n = 1\n",
    "i=0\n",
    "while True:\n",
    "    # 建立客户端连接\n",
    "    clientsocket, addr = s.accept()\n",
    "    print(\"连接地址: %s\" % str(addr))\n",
    "    #msg = '测试消息:' + str(n) + \"\\r\\n\"\n",
    "    if i==0:\n",
    "        msg='a'\n",
    "    #苹果手机自动ascii编码（a→61）\n",
    "    else:\n",
    "        msg='nusri'\n",
    "    clientsocket.send(msg.encode('utf-8'))\n",
    "    clientsocket.close()\n",
    "    n += 1\n",
    "    #变换\n",
    "    if i==0:\n",
    "        i=1\n",
    "    else:#i==1\n",
    "        i=0"
   ]
  },
  {
   "cell_type": "code",
   "execution_count": null,
   "id": "3fe40889",
   "metadata": {},
   "outputs": [],
   "source": [
    "msg='a'\n",
    "print(msg.encode('utf-8'))"
   ]
  },
  {
   "cell_type": "code",
   "execution_count": null,
   "id": "92ba6116",
   "metadata": {},
   "outputs": [],
   "source": []
  }
 ],
 "metadata": {
  "kernelspec": {
   "display_name": "Python 3 (ipykernel)",
   "language": "python",
   "name": "python3"
  },
  "language_info": {
   "codemirror_mode": {
    "name": "ipython",
    "version": 3
   },
   "file_extension": ".py",
   "mimetype": "text/x-python",
   "name": "python",
   "nbconvert_exporter": "python",
   "pygments_lexer": "ipython3",
   "version": "3.8.10"
  }
 },
 "nbformat": 4,
 "nbformat_minor": 5
}
