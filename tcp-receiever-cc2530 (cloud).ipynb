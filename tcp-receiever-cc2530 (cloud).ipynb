{
 "cells": [
  {
   "cell_type": "code",
   "execution_count": 1,
   "id": "69914454",
   "metadata": {},
   "outputs": [],
   "source": [
    "import socket\n",
    "# tcp连接就好比打电话,client先拨号试图与server建立连接,server同意连接后,client和server平等的进行双工通话\n",
    "# client:创建socket，进行connect\n",
    "# server:创建socket,绑定IP地址和端口(因为client需要知道server的IP和port才能够去连接）,监听指定端口，接收数据\n",
    "# 随后client和server互相发送数据"
   ]
  },
  {
   "cell_type": "code",
   "execution_count": 2,
   "id": "41d0f527",
   "metadata": {},
   "outputs": [],
   "source": [
    "# 参数同客户端配置一致，这里不再重复\n",
    "tcp_server = socket.socket(socket.AF_INET, socket.SOCK_STREAM)\n",
    "\n",
    "# 设置端口号复用，让程序退出端口号立即释放，否则的话在30秒-2分钟之内这个端口是不会被释放的，这是TCP的为了保证传输可靠性的机制。\n",
    "tcp_server.setsockopt(socket.SOL_SOCKET, socket.SO_REUSEADDR, True)"
   ]
  },
  {
   "cell_type": "code",
   "execution_count": 3,
   "id": "f6bd00fa",
   "metadata": {},
   "outputs": [],
   "source": [
    "tcp_server.bind((\"0.0.0.0\", 8267))"
   ]
  },
  {
   "cell_type": "code",
   "execution_count": 4,
   "id": "0b512fb4",
   "metadata": {},
   "outputs": [],
   "source": [
    "tcp_server.listen(128)\n",
    "#listen不去收发client的数据,而是仅仅负责接收客户端的连接请求，我们目前是单任务的服务端，也就是server服务一个client，实际应用中，比如阿里云的server\n",
    "#肯定需要同时间服务成千上万个clients，这里的128就是最大能够服务的clients个数，也可以理解为最大等待被连接的clients数量"
   ]
  },
  {
   "cell_type": "code",
   "execution_count": 5,
   "id": "35c5879b",
   "metadata": {},
   "outputs": [],
   "source": [
    "tcp_client, tcp_client_address= tcp_server.accept()"
   ]
  },
  {
   "cell_type": "code",
   "execution_count": 6,
   "id": "68e9301f",
   "metadata": {},
   "outputs": [
    {
     "name": "stdout",
     "output_type": "stream",
     "text": [
      "client's IP and port:  ('103.186.113.210', 60366)\n"
     ]
    }
   ],
   "source": [
    "print(\"client's IP and port: \",tcp_client_address)"
   ]
  },
  {
   "cell_type": "code",
   "execution_count": 7,
   "id": "0720b1ee",
   "metadata": {},
   "outputs": [
    {
     "name": "stdout",
     "output_type": "stream",
     "text": [
      "<socket.socket fd=49, family=AddressFamily.AF_INET, type=SocketKind.SOCK_STREAM, proto=0, laddr=('172.19.53.128', 8267), raddr=('103.186.113.210', 60366)>\n"
     ]
    }
   ],
   "source": [
    "print(tcp_client)"
   ]
  },
  {
   "cell_type": "code",
   "execution_count": 8,
   "id": "d7e1ff6b",
   "metadata": {},
   "outputs": [],
   "source": [
    "# 接收客户端发送的数据, 这次接收数据的最大字节数是1024\n",
    "recv_data = tcp_client.recv(1024)"
   ]
  },
  {
   "cell_type": "code",
   "execution_count": 9,
   "id": "5c97e6fa",
   "metadata": {},
   "outputs": [
    {
     "name": "stdout",
     "output_type": "stream",
     "text": [
      "data received from client:  16.919655172413798, 16.66241379310345, 16.83137931034483, 17.30482758620689, 17.160517241379306, -0.039310344827586226, 0.12775862068965507, 0.9843103448275863, 7.163103448275865, 2.0424137931034463, -135.65448275862065\n"
     ]
    }
   ],
   "source": [
    "recv_content = recv_data.decode(encoding = \"utf-8\")\n",
    "print(\"data received from client: \", recv_content)"
   ]
  },
  {
   "cell_type": "code",
   "execution_count": 10,
   "id": "449c1dd8",
   "metadata": {},
   "outputs": [
    {
     "data": {
      "text/plain": [
       "39"
      ]
     },
     "execution_count": 10,
     "metadata": {},
     "output_type": "execute_result"
    }
   ],
   "source": [
    "send_data = \"thanks client! Your message is received\".encode(encoding = \"utf-8\")\n",
    "tcp_client.send(send_data)"
   ]
  },
  {
   "cell_type": "code",
   "execution_count": 11,
   "id": "0540107c",
   "metadata": {},
   "outputs": [],
   "source": [
    "# 此时client(arduino IDE)收到\"ok! message is received\",就会自动停止tcp连接\n",
    "# 这里只不过是server再暂停一次\n",
    "tcp_client.close()"
   ]
  },
  {
   "cell_type": "code",
   "execution_count": null,
   "id": "467d5937",
   "metadata": {},
   "outputs": [],
   "source": [
    "#link:https://blog.csdn.net/WangTaoTao_/article/details/97175108"
   ]
  }
 ],
 "metadata": {
  "kernelspec": {
   "display_name": "Python 3 (ipykernel)",
   "language": "python",
   "name": "python3"
  },
  "language_info": {
   "codemirror_mode": {
    "name": "ipython",
    "version": 3
   },
   "file_extension": ".py",
   "mimetype": "text/x-python",
   "name": "python",
   "nbconvert_exporter": "python",
   "pygments_lexer": "ipython3",
   "version": "3.8.10"
  }
 },
 "nbformat": 4,
 "nbformat_minor": 5
}
