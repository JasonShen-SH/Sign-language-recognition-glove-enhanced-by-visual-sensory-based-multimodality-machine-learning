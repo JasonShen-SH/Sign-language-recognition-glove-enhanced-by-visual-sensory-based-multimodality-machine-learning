{
 "cells": [
  {
   "cell_type": "code",
   "execution_count": 6,
   "id": "c98d9c46-9f82-4566-84d4-ed081a219e7b",
   "metadata": {},
   "outputs": [],
   "source": [
    "import torch\n",
    "import torch.nn as nn\n",
    "import torch.nn.functional as F\n",
    "import torch.optim as optim\n",
    "import numpy as np\n",
    "from torch.utils.data import TensorDataset, DataLoader\n",
    "import matplotlib.pyplot as plt"
   ]
  },
  {
   "cell_type": "code",
   "execution_count": 7,
   "id": "2fece5cc-e5d5-4f42-9b18-3ea3458f1ca5",
   "metadata": {},
   "outputs": [],
   "source": [
    "mixDataSets = torch.load(\"/root/mix-rawDatasets-2.pt\") # shape: 26447*150540(11+3*224*224+1)\n",
    "mixDataSets = mixDataSets.to(dtype=torch.float32) # 内存"
   ]
  },
  {
   "cell_type": "code",
   "execution_count": 8,
   "id": "9abdfc70-e45b-45e4-bc7f-074bb38ab2ea",
   "metadata": {},
   "outputs": [],
   "source": [
    "mixDataSets = mixDataSets[torch.randperm(mixDataSets.size()[0])] #shuffle,而且是有label的"
   ]
  },
  {
   "cell_type": "code",
   "execution_count": 9,
   "id": "0b49ab66-eab7-44f4-b784-7aee59ab8867",
   "metadata": {},
   "outputs": [],
   "source": [
    "from torchvision import transforms\n",
    "\n",
    "trainingRatio = 0.8\n",
    "batchSize=128\n",
    "device = torch.device(\"cpu\")\n",
    "\n",
    "tranforms = transforms.Normalize(0,1)\n",
    "\n",
    "rawTensorDataSets = mixDataSets\n",
    "\n",
    "rawTensorDataSetsData = rawTensorDataSets[:,0:-1].to(dtype=torch.float32).to(device)\n",
    "rawTensorDataSetsLabel = rawTensorDataSets[:,-1].to(dtype=torch.float32).to(device)\n",
    "\n",
    "totalCount = rawTensorDataSets.shape[0] # must be 26447\n",
    "trainingCount = int(totalCount * trainingRatio)\n",
    "\n",
    "trainingData = rawTensorDataSets[0:trainingCount, 0:-1].to(dtype=torch.float32).to(device)\n",
    "trainingLabel = rawTensorDataSets[0:trainingCount, -1].to(dtype=torch.long).to(device)\n",
    "validatingData = rawTensorDataSets[trainingCount:, 0:-1].to(dtype=torch.float32).to(device)\n",
    "validatingLabel = rawTensorDataSets[trainingCount:, -1].to(dtype=torch.long).to(device)"
   ]
  },
  {
   "cell_type": "code",
   "execution_count": 5,
   "id": "4d4144dd-b6af-46a3-94ee-8eb8ad451ee5",
   "metadata": {},
   "outputs": [],
   "source": [
    "def normalize(tensor): # find mean and std of R/G/B\n",
    "    mean=torch.mean(tensor)\n",
    "    std=torch.std(tensor)\n",
    "    return mean,std"
   ]
  },
  {
   "cell_type": "code",
   "execution_count": 6,
   "id": "8428e689-09c0-4167-8c6e-9b3d089144fd",
   "metadata": {},
   "outputs": [],
   "source": [
    "sensor = rawTensorDataSetsData[:,0:11] #已经归一化了，现在对R/G/B三个图像通道归一化\n",
    "R = rawTensorDataSetsData[:,11:11+224*224]\n",
    "G = rawTensorDataSetsData[:,11+224*224:11+2*224*224]\n",
    "B = rawTensorDataSetsData[:,11+2*224*224:11+3*224*224]\n",
    "\n",
    "Rmean,Rstd = normalize(R)\n",
    "Gmean,Gstd = normalize(G)\n",
    "Bmean,Bstd = normalize(B)\n",
    "torch.save(Rmean,\"Rmean.pt\");torch.save(Rstd,\"Rstd.pt\")\n",
    "torch.save(Gmean,\"Gmean.pt\");torch.save(Gstd,\"Gstd.pt\")\n",
    "torch.save(Bmean,\"Bmean.pt\");torch.save(Bstd,\"Bstd.pt\")\n"
   ]
  },
  {
   "cell_type": "code",
   "execution_count": 12,
   "id": "1a069b84-f9a1-4963-9c99-a6bd78d4ca88",
   "metadata": {},
   "outputs": [],
   "source": [
    "def real_normalize(tensor,mean,std):\n",
    "    tensor = (tensor-mean)/std\n",
    "    return tensor"
   ]
  },
  {
   "cell_type": "code",
   "execution_count": 13,
   "id": "f7ee5b56-3353-45fe-9e8a-6556870ec33f",
   "metadata": {},
   "outputs": [
    {
     "name": "stdout",
     "output_type": "stream",
     "text": [
      "torch.Size([21157, 150539])\n"
     ]
    }
   ],
   "source": [
    "# 原始数据\n",
    "sensor_train = trainingData[:,0:11]\n",
    "R_train = trainingData[:,11:11+224*224]\n",
    "G_train = trainingData[:,11+224*224:11+2*224*224]\n",
    "B_train = trainingData[:,11+2*224*224:11+3*224*224]\n",
    "# 归一化\n",
    "R_train = real_normalize(R_train,Rmean,Rstd)\n",
    "G_train = real_normalize(G_train,Gmean,Gstd)\n",
    "B_train = real_normalize(B_train,Bmean,Bstd)\n",
    "# 拼接\n",
    "nor_trainingData = torch.concat((sensor_train,R_train,G_train,B_train),dim=-1)\n",
    "print(nor_trainingData.shape)"
   ]
  },
  {
   "cell_type": "code",
   "execution_count": 15,
   "id": "cf6d4fbd-726b-4671-a43e-8003ff79478a",
   "metadata": {},
   "outputs": [
    {
     "name": "stdout",
     "output_type": "stream",
     "text": [
      "torch.Size([5290, 150539])\n"
     ]
    }
   ],
   "source": [
    "# 原始数据\n",
    "sensor_test = validatingData[:,0:11]\n",
    "R_test = validatingData[:,11:11+224*224]\n",
    "G_test = validatingData[:,11+224*224:11+2*224*224]\n",
    "B_test = validatingData[:,11+2*224*224:11+3*224*224]\n",
    "# 归一化\n",
    "R_test = real_normalize(R_test,Rmean,Rstd)\n",
    "G_test = real_normalize(G_test,Gmean,Gstd)\n",
    "B_test = real_normalize(B_test,Bmean,Bstd)\n",
    "# 拼接\n",
    "nor_validatingData = torch.concat((sensor_test,R_test,G_test,B_test),dim=-1)\n",
    "print(nor_validatingData.shape)"
   ]
  },
  {
   "cell_type": "code",
   "execution_count": 9,
   "id": "cdc7313a-7e59-4b10-a4cb-14e551473097",
   "metadata": {},
   "outputs": [
    {
     "data": {
      "text/plain": [
       "'\\nsensor = trainingData[:,0:11]\\nR = trainingData[:,11:11+224*224]\\nG = trainingData[:,11+224*224:11+2*224*224]\\nB = trainingData[:,11+2*224*224:11+3*224*224]\\nR = normalize(R) ; G = normalize(G) ; B = normalize(B)\\ntrainingData = torch.concat((sensor,R,G,B),dim=-1)\\nprint(trainingData.shape)\\n'"
      ]
     },
     "execution_count": 9,
     "metadata": {},
     "output_type": "execute_result"
    }
   ],
   "source": [
    "'''\n",
    "sensor = trainingData[:,0:11]\n",
    "R = trainingData[:,11:11+224*224]\n",
    "G = trainingData[:,11+224*224:11+2*224*224]\n",
    "B = trainingData[:,11+2*224*224:11+3*224*224]\n",
    "R = normalize(R) ; G = normalize(G) ; B = normalize(B)\n",
    "trainingData = torch.concat((sensor,R,G,B),dim=-1)\n",
    "print(trainingData.shape)\n",
    "'''"
   ]
  },
  {
   "cell_type": "code",
   "execution_count": 9,
   "id": "e0233091-010c-4a3f-8211-6a892313ce5c",
   "metadata": {},
   "outputs": [
    {
     "name": "stdout",
     "output_type": "stream",
     "text": [
      "torch.Size([5290, 150539])\n"
     ]
    }
   ],
   "source": [
    "'''\n",
    "sensor = validatingData[:,0:11]\n",
    "R = validatingData[:,11:11+224*224]\n",
    "G = validatingData[:,11+224*224:11+2*224*224]\n",
    "B = validatingData[:,11+2*224*224:11+3*224*224]\n",
    "R = normalize(R) ; G = normalize(G) ; B = normalize(B)\n",
    "validatingData = torch.concat((sensor,R,G,B),dim=-1)\n",
    "print(validatingData.shape)\n",
    "'''"
   ]
  },
  {
   "cell_type": "code",
   "execution_count": 19,
   "id": "396bf744-8c11-4581-afae-9cde5755c242",
   "metadata": {},
   "outputs": [],
   "source": [
    "trainingDataSet = TensorDataset(nor_trainingData, trainingLabel)\n",
    "validatingDataSet = TensorDataset(nor_validatingData, validatingLabel)\n",
    "\n",
    "train_dataloader = DataLoader(trainingDataSet, batch_size=batchSize, shuffle=True)\n",
    "val_dataloader = DataLoader(validatingDataSet, batch_size=batchSize, shuffle=True)"
   ]
  },
  {
   "cell_type": "code",
   "execution_count": 2,
   "id": "03a3e2f8-c14f-47d6-86d2-43514ab3b4f0",
   "metadata": {},
   "outputs": [],
   "source": [
    "# resnet-18 \n",
    "\n",
    "import torch\n",
    "import torch.nn as nn\n",
    "import torch.nn.functional as F\n",
    "\n",
    "#定义残差块ResBlock\n",
    "\n",
    "class ResBlock(nn.Module):\n",
    "    def __init__(self, inchannel, outchannel, identity_downsample=None, stride=1):\n",
    "        super(ResBlock, self).__init__()\n",
    "        \n",
    "        #这里定义了残差块内连续的2个卷积层\n",
    "        self.conv1 = nn.Conv2d(inchannel,outchannel,kernel_size=3,stride=stride,padding=1)\n",
    "        self.bn1 = nn.BatchNorm2d(outchannel)\n",
    "        self.conv2 = nn.Conv2d(outchannel,outchannel,kernel_size=3,stride=1,padding=1)\n",
    "        self.bn2 = nn.BatchNorm2d(outchannel)\n",
    "        self.relu = nn.ReLU()\n",
    "        self.identity_downsample = identity_downsample\n",
    "            \n",
    "    def forward(self, x):\n",
    "        identity = x\n",
    "        x = self.conv1(x)\n",
    "        x = self.bn1(x)\n",
    "        x = self.relu(x)\n",
    "        x = self.conv2(x)\n",
    "        x = self.bn2(x)\n",
    "        \n",
    "        # if identity_downsample is not None as default, then:\n",
    "        if self.identity_downsample is not None:\n",
    "            identity = self.identity_downsample(identity)\n",
    "        \n",
    "        x = x + identity\n",
    "        x = self.relu(x)\n",
    "        \n",
    "        return x"
   ]
  },
  {
   "cell_type": "code",
   "execution_count": 3,
   "id": "9ea79353-1f4d-424f-ace5-95a28d3af268",
   "metadata": {},
   "outputs": [],
   "source": [
    "import torch\n",
    "import torch.nn as nn\n",
    "import torch.nn.functional as F\n",
    "\n",
    "class model_mix(nn.Module):\n",
    "    def __init__(self, image_channels, num_classes):\n",
    "        super(model_mix, self).__init__()\n",
    "        \n",
    "        # self.in_channels = 64\n",
    "        self.conv1 = nn.Conv2d(image_channels, 64, kernel_size=7, stride=2, padding=3)\n",
    "        self.bn1 = nn.BatchNorm2d(64)\n",
    "        self.relu = nn.ReLU()\n",
    "        self.maxpool = nn.MaxPool2d(kernel_size=3, stride=2, padding=1)\n",
    "        \n",
    "        #resnet layers\n",
    "        self.layer1 = self.__make_layer(64, 64, stride=1)\n",
    "        self.layer2 = self.__make_layer(64, 128, stride=2)\n",
    "        self.layer3 = self.__make_layer(128, 256, stride=2)\n",
    "        self.layer4 = self.__make_layer(256, 512, stride=2)\n",
    "        \n",
    "        self.avgpool = nn.AdaptiveAvgPool2d((1, 1))\n",
    "        self.fc = nn.Linear(512, num_classes)\n",
    "        \n",
    "        # fc\n",
    "        self.hidden1=nn.Sequential(\n",
    "                nn.Linear(in_features=21,out_features=256,bias=True), # 20+5 / 20+11\n",
    "                nn.Dropout(p = 0.2),\n",
    "                nn.ReLU())\n",
    "        self.hidden2=nn.Sequential(\n",
    "                nn.Linear(in_features=256,out_features=128,bias=True),\n",
    "                nn.ReLU())\n",
    "        self.hidden3=nn.Sequential(\n",
    "                nn.Linear(in_features=128,out_features=100,bias=True),\n",
    "                nn.ReLU())\n",
    "        self.hidden4=nn.Sequential(\n",
    "                nn.Linear(in_features=100,out_features=10,bias=True),\n",
    "                nn.ReLU())\n",
    "\n",
    "        \n",
    "    def identity_downsample(self, in_channels, out_channels):\n",
    "        return nn.Sequential(\n",
    "            nn.Conv2d(in_channels, out_channels, kernel_size=3, stride=2, padding=1), \n",
    "            nn.BatchNorm2d(out_channels)\n",
    "        )  \n",
    "    \n",
    "    def __make_layer(self, in_channels, out_channels, stride):\n",
    "        \n",
    "        identity_downsample = None #默认是none,即identity-free shortcut\n",
    "        if stride != 1:\n",
    "            identity_downsample = self.identity_downsample(in_channels, out_channels)\n",
    "        #对于64-128.128-256.256-512的第一个block,有stride=2,且outchannel=2*inchannel；\n",
    "        #其他的block,64-64的全部2个,64-128的第2个，128-256的第2个，256-512的第2个，都是outchannel=inchannel\n",
    "            \n",
    "        return nn.Sequential(\n",
    "            ResBlock(in_channels, out_channels, identity_downsample=identity_downsample, stride=stride), \n",
    "            ResBlock(out_channels, out_channels)\n",
    "        )\n",
    "    \n",
    "    def forward(self, x):\n",
    "        x1 = x[:,11:] ; x2=x[:,0:11]\n",
    "        x1 = x1.reshape((-1, 3, 224, 224))\n",
    "        x1 = self.conv1(x1)\n",
    "        x1 = self.bn1(x1)\n",
    "        x1 = self.relu(x1)\n",
    "        x1 = self.maxpool(x1)\n",
    "        \n",
    "        x1 = self.layer1(x1)\n",
    "        x1 = self.layer2(x1)\n",
    "        x1 = self.layer3(x1)\n",
    "        x1 = self.layer4(x1)\n",
    "        \n",
    "        x1 = self.avgpool(x1)\n",
    "        x1 = x1.view(x1.shape[0], -1)\n",
    "        x1 = self.fc(x1)\n",
    "        \n",
    "        x = torch.concat((x1,x2),dim=-1)\n",
    "        \n",
    "        x=self.hidden1(x)\n",
    "        x=self.hidden2(x)\n",
    "        x=self.hidden3(x)\n",
    "        output=self.hidden4(x)\n",
    "        \n",
    "        return output\n",
    "    "
   ]
  },
  {
   "cell_type": "code",
   "execution_count": 22,
   "id": "8a1fbb0c-68c2-4d6a-9464-6c3004bbee44",
   "metadata": {},
   "outputs": [],
   "source": [
    "device = torch.device(\"cuda\")\n",
    "model = model_mix(3,10).to(device)"
   ]
  },
  {
   "cell_type": "code",
   "execution_count": 23,
   "id": "dd475919-03c9-447b-a1e1-0571b46e7cf3",
   "metadata": {},
   "outputs": [
    {
     "name": "stdout",
     "output_type": "stream",
     "text": [
      "Epoch 1, Average Training Loss: 186.7431, Training Accuracy: 63.0241%, Validating Accuracy: 89.5085%\n",
      "Epoch 2, Average Training Loss: 38.7734, Training Accuracy: 90.2538%, Validating Accuracy: 89.5085%\n",
      "Epoch 3, Average Training Loss: 37.4681, Training Accuracy: 90.2538%, Validating Accuracy: 89.5085%\n",
      "Epoch 4, Average Training Loss: 37.3912, Training Accuracy: 90.2538%, Validating Accuracy: 89.5085%\n",
      "Epoch 5, Average Training Loss: 37.4019, Training Accuracy: 90.2538%, Validating Accuracy: 89.5085%\n",
      "Epoch 6, Average Training Loss: 37.3602, Training Accuracy: 90.2538%, Validating Accuracy: 89.5085%\n",
      "Epoch 7, Average Training Loss: 37.4347, Training Accuracy: 90.2538%, Validating Accuracy: 89.5085%\n",
      "Epoch 8, Average Training Loss: 37.2496, Training Accuracy: 90.2538%, Validating Accuracy: 89.5085%\n",
      "Epoch 9, Average Training Loss: 37.2904, Training Accuracy: 90.2538%, Validating Accuracy: 89.5085%\n",
      "Epoch 10, Average Training Loss: 37.2855, Training Accuracy: 90.2538%, Validating Accuracy: 89.5085%\n",
      "Epoch 11, Average Training Loss: 37.1061, Training Accuracy: 90.2538%, Validating Accuracy: 89.5085%\n",
      "Epoch 12, Average Training Loss: 37.1922, Training Accuracy: 90.2538%, Validating Accuracy: 89.5085%\n",
      "Epoch 13, Average Training Loss: 28.3981, Training Accuracy: 94.7866%, Validating Accuracy: 100.0000%\n",
      "Epoch 14, Average Training Loss: 0.2766, Training Accuracy: 99.9764%, Validating Accuracy: 99.9811%\n",
      "Epoch 15, Average Training Loss: 0.0763, Training Accuracy: 100.0000%, Validating Accuracy: 100.0000%\n",
      "Epoch 16, Average Training Loss: 0.0360, Training Accuracy: 100.0000%, Validating Accuracy: 100.0000%\n",
      "Epoch 17, Average Training Loss: 0.0269, Training Accuracy: 100.0000%, Validating Accuracy: 100.0000%\n",
      "Epoch 18, Average Training Loss: 0.5429, Training Accuracy: 99.9244%, Validating Accuracy: 100.0000%\n",
      "Epoch 19, Average Training Loss: 0.0288, Training Accuracy: 100.0000%, Validating Accuracy: 100.0000%\n",
      "Epoch 20, Average Training Loss: 0.0168, Training Accuracy: 100.0000%, Validating Accuracy: 100.0000%\n",
      "Epoch 21, Average Training Loss: 0.0123, Training Accuracy: 100.0000%, Validating Accuracy: 100.0000%\n",
      "Epoch 22, Average Training Loss: 0.0108, Training Accuracy: 100.0000%, Validating Accuracy: 100.0000%\n",
      "Epoch 23, Average Training Loss: 0.0089, Training Accuracy: 100.0000%, Validating Accuracy: 100.0000%\n",
      "Epoch 24, Average Training Loss: 0.0070, Training Accuracy: 100.0000%, Validating Accuracy: 100.0000%\n",
      "Epoch 25, Average Training Loss: 0.0060, Training Accuracy: 100.0000%, Validating Accuracy: 100.0000%\n",
      "Epoch 26, Average Training Loss: 0.0046, Training Accuracy: 100.0000%, Validating Accuracy: 100.0000%\n",
      "Epoch 27, Average Training Loss: 0.0046, Training Accuracy: 100.0000%, Validating Accuracy: 100.0000%\n",
      "Epoch 28, Average Training Loss: 0.0042, Training Accuracy: 100.0000%, Validating Accuracy: 100.0000%\n",
      "Epoch 29, Average Training Loss: 0.0046, Training Accuracy: 100.0000%, Validating Accuracy: 100.0000%\n",
      "Epoch 30, Average Training Loss: 0.0029, Training Accuracy: 100.0000%, Validating Accuracy: 100.0000%\n"
     ]
    },
    {
     "data": {
      "image/png": "[encoded data removed]",
      "text/plain": [
       "<Figure size 640x480 with 1 Axes>"
      ]
     },
     "metadata": {},
     "output_type": "display_data"
    }
   ],
   "source": [
    "import torch\n",
    "import torch.nn as nn\n",
    "import torch.nn.functional as F\n",
    "import torch.optim as optim\n",
    "import numpy as np\n",
    "from torch.utils.data import TensorDataset, DataLoader\n",
    "import matplotlib.pyplot as plt\n",
    "\n",
    "acc_val=[]\n",
    "\n",
    "total_epoch=30\n",
    "device = torch.device(\"cuda\")\n",
    "\n",
    "criterion = nn.CrossEntropyLoss()\n",
    "optimizer = torch.optim.Adam(model.parameters(), lr=0.0001)\n",
    "\n",
    "iterr=[]\n",
    "for i in range(total_epoch):\n",
    "    iterr.append(i)\n",
    "\n",
    "for epoch in range(total_epoch):\n",
    "    statisticLoss = 0.0\n",
    "    total = 0\n",
    "    correct = 0\n",
    "\n",
    "    # Training\n",
    "    for i, (features, labels) in enumerate(train_dataloader):\n",
    "        optimizer.zero_grad()  \n",
    "        \n",
    "        features = features.to(device)\n",
    "        labels=labels.to(device)\n",
    "        \n",
    "        output = model(features)\n",
    "\n",
    "        loss = criterion(output, labels)\n",
    "        loss.backward()\n",
    "        \n",
    "        optimizer.step()\n",
    "\n",
    "        statisticLoss += loss.item()\n",
    "\n",
    "        _, predicted = torch.max(output.data, 1)\n",
    "        total += labels.size(0)\n",
    "        correct += (predicted == labels).sum().item()\n",
    "\n",
    "    trainingAcc = 100 * correct / total\n",
    "    \n",
    "    \n",
    "    # Validating\n",
    "    total = 0\n",
    "    correct = 0\n",
    "    with torch.no_grad():\n",
    "        for i, (features, labels) in enumerate(val_dataloader):\n",
    "            features = features.to(device)\n",
    "            labels=labels.to(device)\n",
    "        \n",
    "            output = model(features)\n",
    "\n",
    "            _, predicted = torch.max(output.data, 1)\n",
    "            total += labels.size(0)\n",
    "            correct += (predicted == labels).sum().item()\n",
    "            \n",
    "    validatingAcc = 100 * correct / total\n",
    "    \n",
    "    acc_val.append(validatingAcc)\n",
    "\n",
    "    print(\"Epoch %d, Average Training Loss: %.4lf, Training Accuracy: %.4lf%%, Validating Accuracy: %.4lf%%\" %(epoch+1, statisticLoss, trainingAcc, validatingAcc))\n",
    "    \n",
    "torch.save(model, \"/root/moving_fusion_architecture.pth\")\n",
    "\n",
    "plt.figure()\n",
    "plt.plot(iterr,acc_val)\n",
    "plt.title('Validating accuracy of moving-mix-fusion')\n",
    "plt.xlabel('epoch')\n",
    "plt.ylabel('training accuracy')\n",
    "plt.savefig('moving-mix-fusion2.png')\n",
    "plt.show()"
   ]
  },
  {
   "cell_type": "code",
   "execution_count": 14,
   "id": "07bdb671-96ab-4571-a778-ecc99f3e2610",
   "metadata": {},
   "outputs": [],
   "source": [
    "import torch\n",
    "device=torch.device(\"cuda\")\n",
    "val_model = torch.load(\"moving_fusion_architecture.pth\").to(device)"
   ]
  },
  {
   "cell_type": "code",
   "execution_count": 15,
   "id": "dda646a2-3908-4a77-8849-e02bb49fd41c",
   "metadata": {},
   "outputs": [],
   "source": [
    "Rmean=torch.load(\"Rmean.pt\"); Rstd=torch.load(\"Rstd.pt\")\n",
    "Gmean=torch.load(\"Gmean.pt\"); Gstd=torch.load(\"Gstd.pt\")\n",
    "Bmean=torch.load(\"Bmean.pt\"); Bstd=torch.load(\"Bstd.pt\")"
   ]
  },
  {
   "cell_type": "code",
   "execution_count": 13,
   "id": "05cba4c0-3ca7-4163-beae-507507dc231a",
   "metadata": {},
   "outputs": [],
   "source": []
  },
  {
   "cell_type": "code",
   "execution_count": 18,
   "id": "9623c0aa-0a17-4119-8e3b-d6a671cffc10",
   "metadata": {},
   "outputs": [
    {
     "ename": "IndexError",
     "evalue": "too many indices for tensor of dimension 1",
     "output_type": "error",
     "traceback": [
      "\u001b[0;31m---------------------------------------------------------------------------\u001b[0m",
      "\u001b[0;31mIndexError\u001b[0m                                Traceback (most recent call last)",
      "\u001b[0;32m/tmp/ipykernel_127/4173485582.py\u001b[0m in \u001b[0;36m<cell line: 4>\u001b[0;34m()\u001b[0m\n\u001b[1;32m     12\u001b[0m     \u001b[0mnew_test\u001b[0m\u001b[0;34m=\u001b[0m\u001b[0mtorch\u001b[0m\u001b[0;34m.\u001b[0m\u001b[0mconcat\u001b[0m\u001b[0;34m(\u001b[0m\u001b[0;34m(\u001b[0m\u001b[0msensor\u001b[0m\u001b[0;34m,\u001b[0m\u001b[0mR\u001b[0m\u001b[0;34m,\u001b[0m\u001b[0mG\u001b[0m\u001b[0;34m,\u001b[0m\u001b[0mB\u001b[0m\u001b[0;34m)\u001b[0m\u001b[0;34m,\u001b[0m\u001b[0mdim\u001b[0m\u001b[0;34m=\u001b[0m\u001b[0;34m-\u001b[0m\u001b[0;36m1\u001b[0m\u001b[0;34m)\u001b[0m\u001b[0;34m.\u001b[0m\u001b[0mto\u001b[0m\u001b[0;34m(\u001b[0m\u001b[0mdevice\u001b[0m\u001b[0;34m=\u001b[0m\u001b[0;34m\"cuda\"\u001b[0m\u001b[0;34m)\u001b[0m\u001b[0;34m\u001b[0m\u001b[0;34m\u001b[0m\u001b[0m\n\u001b[1;32m     13\u001b[0m \u001b[0;34m\u001b[0m\u001b[0m\n\u001b[0;32m---> 14\u001b[0;31m     \u001b[0moutput\u001b[0m \u001b[0;34m=\u001b[0m \u001b[0mval_model\u001b[0m\u001b[0;34m(\u001b[0m\u001b[0mnew_test\u001b[0m\u001b[0;34m)\u001b[0m\u001b[0;34m\u001b[0m\u001b[0;34m\u001b[0m\u001b[0m\n\u001b[0m\u001b[1;32m     15\u001b[0m     \u001b[0mprint\u001b[0m\u001b[0;34m(\u001b[0m\u001b[0moutput\u001b[0m\u001b[0;34m)\u001b[0m\u001b[0;34m\u001b[0m\u001b[0;34m\u001b[0m\u001b[0m\n\u001b[1;32m     16\u001b[0m \u001b[0;34m\u001b[0m\u001b[0m\n",
      "\u001b[0;32m~/miniconda3/envs/myconda/lib/python3.9/site-packages/torch/nn/modules/module.py\u001b[0m in \u001b[0;36m_call_impl\u001b[0;34m(self, *input, **kwargs)\u001b[0m\n\u001b[1;32m   1128\u001b[0m         if not (self._backward_hooks or self._forward_hooks or self._forward_pre_hooks or _global_backward_hooks\n\u001b[1;32m   1129\u001b[0m                 or _global_forward_hooks or _global_forward_pre_hooks):\n\u001b[0;32m-> 1130\u001b[0;31m             \u001b[0;32mreturn\u001b[0m \u001b[0mforward_call\u001b[0m\u001b[0;34m(\u001b[0m\u001b[0;34m*\u001b[0m\u001b[0minput\u001b[0m\u001b[0;34m,\u001b[0m \u001b[0;34m**\u001b[0m\u001b[0mkwargs\u001b[0m\u001b[0;34m)\u001b[0m\u001b[0;34m\u001b[0m\u001b[0;34m\u001b[0m\u001b[0m\n\u001b[0m\u001b[1;32m   1131\u001b[0m         \u001b[0;31m# Do not call functions when jit is used\u001b[0m\u001b[0;34m\u001b[0m\u001b[0;34m\u001b[0m\u001b[0m\n\u001b[1;32m   1132\u001b[0m         \u001b[0mfull_backward_hooks\u001b[0m\u001b[0;34m,\u001b[0m \u001b[0mnon_full_backward_hooks\u001b[0m \u001b[0;34m=\u001b[0m \u001b[0;34m[\u001b[0m\u001b[0;34m]\u001b[0m\u001b[0;34m,\u001b[0m \u001b[0;34m[\u001b[0m\u001b[0;34m]\u001b[0m\u001b[0;34m\u001b[0m\u001b[0;34m\u001b[0m\u001b[0m\n",
      "\u001b[0;32m/tmp/ipykernel_127/1668945455.py\u001b[0m in \u001b[0;36mforward\u001b[0;34m(self, x)\u001b[0m\n\u001b[1;32m     58\u001b[0m \u001b[0;34m\u001b[0m\u001b[0m\n\u001b[1;32m     59\u001b[0m     \u001b[0;32mdef\u001b[0m \u001b[0mforward\u001b[0m\u001b[0;34m(\u001b[0m\u001b[0mself\u001b[0m\u001b[0;34m,\u001b[0m \u001b[0mx\u001b[0m\u001b[0;34m)\u001b[0m\u001b[0;34m:\u001b[0m\u001b[0;34m\u001b[0m\u001b[0;34m\u001b[0m\u001b[0m\n\u001b[0;32m---> 60\u001b[0;31m         \u001b[0mx1\u001b[0m \u001b[0;34m=\u001b[0m \u001b[0mx\u001b[0m\u001b[0;34m[\u001b[0m\u001b[0;34m:\u001b[0m\u001b[0;34m,\u001b[0m\u001b[0;36m11\u001b[0m\u001b[0;34m:\u001b[0m\u001b[0;34m]\u001b[0m \u001b[0;34m;\u001b[0m \u001b[0mx2\u001b[0m\u001b[0;34m=\u001b[0m\u001b[0mx\u001b[0m\u001b[0;34m[\u001b[0m\u001b[0;34m:\u001b[0m\u001b[0;34m,\u001b[0m\u001b[0;36m0\u001b[0m\u001b[0;34m:\u001b[0m\u001b[0;36m11\u001b[0m\u001b[0;34m]\u001b[0m\u001b[0;34m\u001b[0m\u001b[0;34m\u001b[0m\u001b[0m\n\u001b[0m\u001b[1;32m     61\u001b[0m         \u001b[0mx1\u001b[0m \u001b[0;34m=\u001b[0m \u001b[0mx1\u001b[0m\u001b[0;34m.\u001b[0m\u001b[0mreshape\u001b[0m\u001b[0;34m(\u001b[0m\u001b[0;34m(\u001b[0m\u001b[0;34m-\u001b[0m\u001b[0;36m1\u001b[0m\u001b[0;34m,\u001b[0m \u001b[0;36m3\u001b[0m\u001b[0;34m,\u001b[0m \u001b[0;36m224\u001b[0m\u001b[0;34m,\u001b[0m \u001b[0;36m224\u001b[0m\u001b[0;34m)\u001b[0m\u001b[0;34m)\u001b[0m\u001b[0;34m\u001b[0m\u001b[0;34m\u001b[0m\u001b[0m\n\u001b[1;32m     62\u001b[0m         \u001b[0mx1\u001b[0m \u001b[0;34m=\u001b[0m \u001b[0mself\u001b[0m\u001b[0;34m.\u001b[0m\u001b[0mconv1\u001b[0m\u001b[0;34m(\u001b[0m\u001b[0mx1\u001b[0m\u001b[0;34m)\u001b[0m\u001b[0;34m\u001b[0m\u001b[0;34m\u001b[0m\u001b[0m\n",
      "\u001b[0;31mIndexError\u001b[0m: too many indices for tensor of dimension 1"
     ]
    }
   ],
   "source": [
    "test = trainingData[10]\n",
    "label = trainingLabel[10].to(\"cuda\")\n",
    "\n",
    "with torch.no_grad():\n",
    "    sensor=tmp[0:11]\n",
    "    R=test[11:11+224*224]\n",
    "    G=test[11+224*224:11+2*224*224]\n",
    "    B=test[11+2*224*224:11+3*224*224]\n",
    "    R=(R-Rmean)/Rstd\n",
    "    G=(G-Gmean)/Gstd\n",
    "    B=(B-Bmean)/Bstd\n",
    "    new_test=torch.concat((sensor,R,G,B),dim=-1).to(device=\"cuda\")\n",
    "    \n",
    "    output = val_model(new_test)\n",
    "    print(output)\n",
    "    \n",
    "    "
   ]
  },
  {
   "cell_type": "code",
   "execution_count": null,
   "id": "4dafb1e8-6fdb-48bc-90ab-b97547ac1f28",
   "metadata": {},
   "outputs": [],
   "source": []
  }
 ],
 "metadata": {
  "kernelspec": {
   "display_name": "myconda",
   "language": "python",
   "name": "myconda"
  },
  "language_info": {
   "codemirror_mode": {
    "name": "ipython",
    "version": 3
   },
   "file_extension": ".py",
   "mimetype": "text/x-python",
   "name": "python",
   "nbconvert_exporter": "python",
   "pygments_lexer": "ipython3",
   "version": "3.9.13"
  }
 },
 "nbformat": 4,
 "nbformat_minor": 5
}
