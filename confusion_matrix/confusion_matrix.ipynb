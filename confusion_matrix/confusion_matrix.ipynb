{
 "cells": [
  {
   "cell_type": "code",
   "execution_count": 1,
   "id": "b3a713d6-0522-4b36-b072-40a4aabb6e38",
   "metadata": {},
   "outputs": [
    {
     "name": "stderr",
     "output_type": "stream",
     "text": [
      "/root/miniconda3/envs/myconda/lib/python3.9/site-packages/tqdm/auto.py:22: TqdmWarning: IProgress not found. Please update jupyter and ipywidgets. See https://ipywidgets.readthedocs.io/en/stable/user_install.html\n",
      "  from .autonotebook import tqdm as notebook_tqdm\n"
     ]
    }
   ],
   "source": [
    "import torch\n",
    "import torch.nn as nn\n",
    "import pdb\n",
    "\n",
    "import os\n",
    "import torch.nn.functional as F\n",
    "import torch.optim as optim\n",
    "import numpy as np\n",
    "from torch.utils.data import TensorDataset, DataLoader\n",
    "import matplotlib.pyplot as plt"
   ]
  },
  {
   "cell_type": "code",
   "execution_count": 2,
   "id": "687c1b4a-263e-4b25-883b-f7e186d50b69",
   "metadata": {},
   "outputs": [],
   "source": [
    "# load data\n",
    "loader = torch.load('/mnt/fyp/data/val_loader.pt')\n",
    "# device\n",
    "device = torch.device(\"cuda:0\")"
   ]
  },
  {
   "cell_type": "code",
   "execution_count": 30,
   "id": "a749f80d-cbe2-4fef-b938-07a054a0176c",
   "metadata": {},
   "outputs": [],
   "source": [
    "model = torch.load('/mnt/fyp/models/teng_model.pth') # change to img_teng_imu / img / teng_imu / teng model\n",
    "\n",
    "model.eval()\n",
    "\n",
    "for idx,batch in enumerate(loader):\n",
    "    with torch.no_grad():\n",
    "        img_data_val = batch['data'][:,:224*224*3].reshape(-1,3,224,224).to(device)\n",
    "\n",
    "        teng_data_val = batch['data'][:,224*224*3:224*224*3+500].reshape(-1,50,10).to(device) \n",
    "\n",
    "        imu_data_val = batch['data'][:,224*224*3+500:].reshape(-1,50,18).to(device) \n",
    "\n",
    "        label_data_val = batch['label'].to(torch.long).to(device) \n",
    "        label_data_val = label_data_val.squeeze()\n",
    "        \n",
    "        if idx==0:\n",
    "            gt = label_data_val\n",
    "        else:\n",
    "            gt = torch.cat((gt, label_data_val), dim=0)\n",
    "\n",
    "        #outputs_val = model(img_data_val, teng_data_val, imu_data_val)\n",
    "        outputs_val = model(teng_data_val) # change according to model requirement\n",
    "\n",
    "        _, predicted_val = torch.max(outputs_val, 1) \n",
    "\n",
    "        if idx==0:\n",
    "            predicted = predicted_val\n",
    "        else:\n",
    "            predicted = torch.cat((predicted, predicted_val), dim=0)"
   ]
  },
  {
   "cell_type": "code",
   "execution_count": 43,
   "id": "52ee804d-144f-4511-843c-ad9553af2efe",
   "metadata": {},
   "outputs": [],
   "source": [
    "right_num = [20 for i in range(39)] # 39*20\n",
    "error = [[] for _ in range(39)] # 39*[]"
   ]
  },
  {
   "cell_type": "code",
   "execution_count": 44,
   "id": "dc65d00f-a088-4905-b1cd-7e1fb30155c5",
   "metadata": {},
   "outputs": [],
   "source": [
    "res = (gt == predicted)\n",
    "\n",
    "for i in range(res.shape[0]):\n",
    "    if str(res[i].item()) == \"False\":\n",
    "        right_num[gt[i].item()] -= 1\n",
    "        error[gt[i].item()].append(predicted[i].item())"
   ]
  },
  {
   "cell_type": "code",
   "execution_count": 48,
   "id": "64e5a358-5779-4127-91a9-d746ce3258e5",
   "metadata": {},
   "outputs": [
    {
     "name": "stderr",
     "output_type": "stream",
     "text": [
      "/tmp/ipykernel_106/1187661140.py:3: VisibleDeprecationWarning: Creating an ndarray from ragged nested sequences (which is a list-or-tuple of lists-or-tuples-or ndarrays with different lengths or shapes) is deprecated. If you meant to do this, you must specify 'dtype=object' when creating the ndarray.\n",
      "  error = np.array(error)\n"
     ]
    }
   ],
   "source": [
    "right_num = np.array(right_num)\n",
    "np.save(\"/mnt/fyp/confusion_matrix/right_num.npy\",right_num)\n",
    "error = np.array(error)\n",
    "np.save(\"/mnt/fyp/confusion_matrix/error.npy\", error)"
   ]
  },
  {
   "cell_type": "code",
   "execution_count": 2,
   "id": "d64bcb05-cdd4-4a83-a45d-40dba42f6eb5",
   "metadata": {},
   "outputs": [
    {
     "name": "stdout",
     "output_type": "stream",
     "text": [
      "[11 19 19  1 15 14 16 20  0  0  0 10 17  1  0 10  6  1  0 16  0 17 12  0\n",
      " 10  1  2  5  0  0  5  4 14  2 12 19  8  9 15]\n"
     ]
    }
   ],
   "source": [
    "import numpy as np\n",
    "right_num = np.load(\"/mnt/fyp/confusion_matrix/right_num.npy\")\n",
    "print(right_num)"
   ]
  },
  {
   "cell_type": "code",
   "execution_count": 6,
   "id": "855073c0-4d11-4872-83ef-1c3c6c542fd5",
   "metadata": {},
   "outputs": [
    {
     "name": "stdout",
     "output_type": "stream",
     "text": [
      "[list([6, 6, 21, 17, 36, 15, 36, 36, 36]) list([7]) list([31])\n",
      " list([34, 34, 27, 18, 33, 34, 33, 27, 34, 28, 34, 34, 34, 34, 34, 27, 16, 34, 34])\n",
      " list([19, 19, 21, 32, 19]) list([6, 36, 6, 6, 6, 6]) list([5, 0, 22, 5])\n",
      " list([])\n",
      " list([28, 34, 34, 27, 3, 33, 33, 27, 27, 3, 27, 3, 34, 34, 34, 27, 34, 34, 34, 34])\n",
      " list([33, 34, 33, 31, 27, 37, 27, 27, 33, 13, 11, 33, 33, 27, 29, 11, 34, 27, 13, 36])\n",
      " list([34, 36, 27, 27, 18, 34, 36, 34, 27, 27, 25, 34, 34, 34, 34, 36, 34, 34, 34, 34])\n",
      " list([17, 17, 17, 22, 16, 31, 22, 17, 17, 0]) list([1, 29, 11])\n",
      " list([3, 34, 8, 27, 3, 3, 33, 3, 33, 27, 34, 3, 3, 3, 28, 3, 33, 27, 33])\n",
      " list([34, 27, 10, 32, 37, 37, 27, 18, 26, 16, 18, 18, 33, 37, 17, 21, 18, 33, 3, 19])\n",
      " list([13, 18, 23, 18, 18, 23, 13, 26, 26, 13])\n",
      " list([31, 9, 15, 27, 31, 27, 31, 31, 26, 31, 31, 31, 26, 31])\n",
      " list([31, 2, 11, 2, 2, 2, 36, 31, 32, 2, 2, 2, 2, 2, 2, 2, 2, 2, 2])\n",
      " list([27, 33, 27, 27, 27, 33, 33, 3, 8, 33, 3, 27, 27, 34, 27, 27, 29, 27, 33, 33])\n",
      " list([21, 4, 2, 4])\n",
      " list([34, 18, 27, 27, 27, 27, 8, 3, 34, 27, 34, 34, 27, 34, 28, 34, 37, 3, 27, 3])\n",
      " list([37, 24, 32]) list([11, 0, 11, 11, 17, 11, 5, 0])\n",
      " list([3, 33, 3, 33, 29, 25, 3, 13, 13, 33, 18, 33, 13, 18, 18, 33, 33, 8, 8, 33])\n",
      " list([37, 32, 27, 30, 37, 34, 36, 34, 36, 34])\n",
      " list([34, 27, 34, 34, 37, 29, 27, 34, 34, 27, 34, 34, 34, 27, 30, 34, 34, 27, 37])\n",
      " list([32, 25, 14, 37, 18, 16, 16, 33, 27, 18, 34, 27, 28, 34, 18, 27, 27, 25])\n",
      " list([34, 34, 37, 37, 34, 34, 34, 18, 34, 34, 37, 37, 34, 37, 34])\n",
      " list([34, 34, 34, 30, 25, 34, 34, 34, 37, 27, 34, 34, 36, 37, 32, 34, 37, 34, 34, 25])\n",
      " list([27, 34, 3, 27, 34, 34, 28, 34, 34, 34, 28, 34, 34, 34, 34, 34, 34, 3, 34, 34])\n",
      " list([37, 36, 34, 27, 34, 36, 37, 10, 25, 36, 36, 34, 34, 36, 37])\n",
      " list([37, 24, 2, 27, 27, 2, 2, 10, 16, 26, 33, 34, 2, 2, 2, 21])\n",
      " list([21, 21, 35, 21, 19, 21])\n",
      " list([3, 27, 34, 27, 27, 34, 37, 3, 34, 34, 34, 34, 34, 27, 27, 34, 34, 27])\n",
      " list([37, 37, 37, 37, 37, 37, 32, 37]) list([32])\n",
      " list([35, 27, 37, 37, 15, 27, 37, 35, 31, 10, 38, 35])\n",
      " list([34, 32, 36, 4, 34, 34, 34, 34, 32, 34, 34])\n",
      " list([36, 36, 36, 7, 36])]\n"
     ]
    }
   ],
   "source": [
    "error = np.load(\"/mnt/fyp/confusion_matrix/error.npy\",allow_pickle=True)\n",
    "print(error)"
   ]
  },
  {
   "cell_type": "code",
   "execution_count": null,
   "id": "644f1cf4-c30f-419e-93e1-4f0b0973ba2f",
   "metadata": {},
   "outputs": [],
   "source": []
  }
 ],
 "metadata": {
  "kernelspec": {
   "display_name": "myconda",
   "language": "python",
   "name": "myconda"
  },
  "language_info": {
   "codemirror_mode": {
    "name": "ipython",
    "version": 3
   },
   "file_extension": ".py",
   "mimetype": "text/x-python",
   "name": "python",
   "nbconvert_exporter": "python",
   "pygments_lexer": "ipython3",
   "version": "3.9.13"
  }
 },
 "nbformat": 4,
 "nbformat_minor": 5
}
