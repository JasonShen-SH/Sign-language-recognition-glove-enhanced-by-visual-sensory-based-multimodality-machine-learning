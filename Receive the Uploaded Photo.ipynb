{
 "cells": [
  {
   "cell_type": "code",
   "execution_count": null,
   "id": "88eb94fe",
   "metadata": {},
   "outputs": [],
   "source": [
    "from flask_restful import Api, Resource\n",
    "from flask import Flask, request\n",
    "\n",
    "app = Flask(__name__)\n",
    "api = Api(app)"
   ]
  },
  {
   "cell_type": "code",
   "execution_count": null,
   "id": "371a87cb",
   "metadata": {},
   "outputs": [],
   "source": [
    "# 这边的类名是自己定义的\n",
    "class receive_pic(Resource):\n",
    "    def put(self):\n",
    "        #接收二进制流保存为图片\n",
    "        img = request.get_data()\n",
    "        with open(\"test.png\", \"wb\") as f:\n",
    "            f.write(img)\n",
    "        return 0\n",
    "        \n",
    "# 后面的路径可以自己定义\n",
    "api.add_resource(receive_pic,'/test')"
   ]
  },
  {
   "cell_type": "code",
   "execution_count": null,
   "id": "7024ae5b",
   "metadata": {},
   "outputs": [],
   "source": [
    "if __name__ == '__main__':\n",
    "    app_port = 7100\n",
    "    app.run(host=\"0.0.0.0\", port=app_port, debug=False)"
   ]
  }
 ],
 "metadata": {
  "kernelspec": {
   "display_name": "Python 3 (ipykernel)",
   "language": "python",
   "name": "python3"
  },
  "language_info": {
   "codemirror_mode": {
    "name": "ipython",
    "version": 3
   },
   "file_extension": ".py",
   "mimetype": "text/x-python",
   "name": "python",
   "nbconvert_exporter": "python",
   "pygments_lexer": "ipython3",
   "version": "3.8.10"
  }
 },
 "nbformat": 4,
 "nbformat_minor": 5
}
