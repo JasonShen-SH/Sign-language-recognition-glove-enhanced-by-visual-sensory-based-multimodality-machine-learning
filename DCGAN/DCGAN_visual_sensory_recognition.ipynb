{
 "cells": [
  {
   "cell_type": "code",
   "execution_count": 1,
   "id": "23cf8bbf-0063-45c6-985e-fa8703a438be",
   "metadata": {},
   "outputs": [
    {
     "name": "stderr",
     "output_type": "stream",
     "text": [
      "/root/miniconda3/envs/myconda/lib/python3.9/site-packages/tqdm/auto.py:22: TqdmWarning: IProgress not found. Please update jupyter and ipywidgets. See https://ipywidgets.readthedocs.io/en/stable/user_install.html\n",
      "  from .autonotebook import tqdm as notebook_tqdm\n"
     ]
    },
    {
     "name": "stdout",
     "output_type": "stream",
     "text": [
      "Random Seed:  999\n"
     ]
    },
    {
     "data": {
      "text/plain": [
       "<torch._C.Generator at 0x7f4e3c877590>"
      ]
     },
     "execution_count": 1,
     "metadata": {},
     "output_type": "execute_result"
    }
   ],
   "source": [
    "from __future__ import print_function\n",
    "#%matplotlib inline\n",
    "import argparse\n",
    "import os\n",
    "import random\n",
    "import torch\n",
    "import torch.nn as nn\n",
    "import torch.nn.parallel\n",
    "import torch.backends.cudnn as cudnn\n",
    "import torch.optim as optim\n",
    "import torch.utils.data\n",
    "import torchvision.datasets as dset\n",
    "import torchvision.transforms as transforms\n",
    "import torchvision.utils as vutils\n",
    "import numpy as np\n",
    "import matplotlib.pyplot as plt\n",
    "import matplotlib.animation as animation\n",
    "from IPython.display import HTML\n",
    "\n",
    "from torchvision.datasets import ImageFolder \n",
    "from torch.utils.data import DataLoader\n",
    "import torch\n",
    "from PIL import Image\n",
    "from torch.utils.data import TensorDataset, DataLoader\n",
    "\n",
    "# Set random seed for reproducibility\n",
    "manualSeed = 999\n",
    "#manualSeed = random.randint(1, 10000) # use if you want new results\n",
    "print(\"Random Seed: \", manualSeed)\n",
    "random.seed(manualSeed)\n",
    "torch.manual_seed(manualSeed)"
   ]
  },
  {
   "cell_type": "code",
   "execution_count": 2,
   "id": "b468166d-ff29-416a-a177-c1346674cd6b",
   "metadata": {},
   "outputs": [
    {
     "name": "stdout",
     "output_type": "stream",
     "text": [
      "torch.Size([3066, 12289])\n",
      "torch.Size([6202, 12289])\n",
      "torch.Size([9304, 12289])\n",
      "torch.Size([12385, 12289])\n",
      "torch.Size([15390, 12289])\n",
      "torch.Size([18325, 12289])\n",
      "torch.Size([21363, 12289])\n",
      "torch.Size([24410, 12289])\n",
      "torch.Size([27431, 12289])\n",
      "torch.Size([30448, 12289])\n"
     ]
    }
   ],
   "source": [
    "labelName = [\"bowl\", \"dog\", \"feel\", \"get\", \"I\", \"know\", \"must\", \"sick\", \"you\", \"zero\"]\n",
    "\n",
    "for name in labelName:\n",
    "    pt_path = '/mnt/DCGAN_datasets/nonshuffle_diffusionDatasets_64_{}.pt'.format(name)\n",
    "    pt = torch.load(pt_path)\n",
    "    if name=='bowl':\n",
    "        total_pt=pt\n",
    "    else:\n",
    "        total_pt=torch.cat((total_pt,pt),dim=0)\n",
    "    print(total_pt.shape)"
   ]
  },
  {
   "cell_type": "code",
   "execution_count": 2,
   "id": "773aaa1f-2ea4-46ad-b8df-eeb28dc5c6c8",
   "metadata": {},
   "outputs": [],
   "source": [
    "# torch.save(total_pt,\"/mnt/DCGAN_datasets/nonshuffle_diffusionDatasets_64_total.pt\") \n",
    "total_pt = torch.load(\"/mnt/DCGAN_datasets/nonshuffle_diffusionDatasets_64_total.pt\") \n",
    "#total_pt = torch.load(\"/root/nonshuffle_diffusionDatasets_total.pt\")"
   ]
  },
  {
   "cell_type": "code",
   "execution_count": 3,
   "id": "b3e999f5-6b95-4b92-b8d2-7abb583d18ee",
   "metadata": {},
   "outputs": [],
   "source": [
    "mixDataSets = total_pt[torch.randperm(total_pt.size()[0])] #shuffle,而且是有label的"
   ]
  },
  {
   "cell_type": "code",
   "execution_count": 4,
   "id": "a02f56e4-82e9-4ddd-9dee-0e66971e87b7",
   "metadata": {},
   "outputs": [],
   "source": [
    "torch.cuda.empty_cache()"
   ]
  },
  {
   "cell_type": "code",
   "execution_count": 5,
   "id": "2b234644-6daf-4cc4-bba2-fbf0130c1635",
   "metadata": {},
   "outputs": [],
   "source": [
    "trainingRatio = 0.8\n",
    "batchSize=128\n",
    "device = torch.device(\"cuda\")\n",
    "\n",
    "tranforms = transforms.Normalize(0,1)\n",
    "\n",
    "rawTensorDataSets = mixDataSets\n",
    "\n",
    "rawTensorDataSetsData = rawTensorDataSets[:,0:-1].to(dtype=torch.float32).to(device)\n",
    "rawTensorDataSetsLabel = rawTensorDataSets[:,-1].to(dtype=torch.float32).to(device)\n",
    "\n",
    "totalCount = rawTensorDataSets.shape[0] # must be 30448\n",
    "trainingCount = int(totalCount * trainingRatio)\n",
    "\n",
    "trainingData = rawTensorDataSets[0:trainingCount, 0:-1].to(dtype=torch.float32).to(device)\n",
    "trainingLabel = rawTensorDataSets[0:trainingCount, -1].to(dtype=torch.float32).to(device)\n",
    "validatingData = rawTensorDataSets[trainingCount:, 0:-1].to(dtype=torch.float32).to(device)\n",
    "validatingLabel = rawTensorDataSets[trainingCount:, -1].to(dtype=torch.float32).to(device)"
   ]
  },
  {
   "cell_type": "code",
   "execution_count": 6,
   "id": "9a36479a-e79d-474e-96df-daaa4506e919",
   "metadata": {},
   "outputs": [],
   "source": [
    "trainingDataSet = TensorDataset(trainingData, trainingLabel)\n",
    "validatingDataSet = TensorDataset(validatingData, validatingLabel)\n",
    "\n",
    "train_dataloader = DataLoader(trainingDataSet, batch_size=batchSize, shuffle=True)\n",
    "val_dataloader = DataLoader(validatingDataSet, batch_size=batchSize, shuffle=True)"
   ]
  },
  {
   "cell_type": "code",
   "execution_count": 7,
   "id": "c20b9430-1764-4c13-816d-94efdc9e122f",
   "metadata": {},
   "outputs": [],
   "source": [
    "# resnet-18 \n",
    "\n",
    "import torch\n",
    "import torch.nn as nn\n",
    "import torch.nn.functional as F\n",
    "\n",
    "#定义残差块ResBlock\n",
    "\n",
    "class ResBlock(nn.Module):\n",
    "    def __init__(self, inchannel, outchannel, identity_downsample=None, stride=1):\n",
    "        super(ResBlock, self).__init__()\n",
    "        \n",
    "        #这里定义了残差块内连续的2个卷积层\n",
    "        self.conv1 = nn.Conv2d(inchannel,outchannel,kernel_size=3,stride=stride,padding=1)\n",
    "        self.bn1 = nn.BatchNorm2d(outchannel)\n",
    "        self.conv2 = nn.Conv2d(outchannel,outchannel,kernel_size=3,stride=1,padding=1)\n",
    "        self.bn2 = nn.BatchNorm2d(outchannel)\n",
    "        self.relu = nn.ReLU()\n",
    "        self.identity_downsample = identity_downsample\n",
    "            \n",
    "    def forward(self, x):\n",
    "        identity = x\n",
    "        x = self.conv1(x)\n",
    "        x = self.bn1(x)\n",
    "        x = self.relu(x)\n",
    "        x = self.conv2(x)\n",
    "        x = self.bn2(x)\n",
    "        \n",
    "        # if identity_downsample is not None as default, then:\n",
    "        if self.identity_downsample is not None:\n",
    "            identity = self.identity_downsample(identity)\n",
    "        \n",
    "        x = x + identity\n",
    "        x = self.relu(x)\n",
    "        \n",
    "        return x"
   ]
  },
  {
   "cell_type": "code",
   "execution_count": 8,
   "id": "4480f02b-6ea7-46c4-a2e9-82bfb5507b65",
   "metadata": {},
   "outputs": [],
   "source": [
    "class ResNet_18(nn.Module):\n",
    "    \n",
    "    def __init__(self, image_channels, num_classes):\n",
    "        \n",
    "        super(ResNet_18, self).__init__()\n",
    "        # self.in_channels = 64\n",
    "        self.conv1 = nn.Conv2d(image_channels, 64, kernel_size=7, stride=2, padding=3)\n",
    "        self.bn1 = nn.BatchNorm2d(64)\n",
    "        self.relu = nn.ReLU()\n",
    "        self.maxpool = nn.MaxPool2d(kernel_size=3, stride=2, padding=1)\n",
    "        \n",
    "        #resnet layers\n",
    "        self.layer1 = self.__make_layer(64, 64, stride=1)\n",
    "        self.layer2 = self.__make_layer(64, 128, stride=2)\n",
    "        self.layer3 = self.__make_layer(128, 256, stride=2)\n",
    "        self.layer4 = self.__make_layer(256, 512, stride=2)\n",
    "        \n",
    "        self.avgpool = nn.AdaptiveAvgPool2d((1, 1))\n",
    "        self.fc = nn.Linear(512, num_classes)\n",
    "        \n",
    "    def identity_downsample(self, in_channels, out_channels):\n",
    "        return nn.Sequential(\n",
    "            nn.Conv2d(in_channels, out_channels, kernel_size=3, stride=2, padding=1), \n",
    "            nn.BatchNorm2d(out_channels)\n",
    "        )  \n",
    "    \n",
    "    def __make_layer(self, in_channels, out_channels, stride):\n",
    "        \n",
    "        identity_downsample = None #默认是none,即identity-free shortcut\n",
    "        if stride != 1:\n",
    "            identity_downsample = self.identity_downsample(in_channels, out_channels)\n",
    "        #对于64-128.128-256.256-512的第一个block,有stride=2,且outchannel=2*inchannel；\n",
    "        #其他的block,64-64的全部2个,64-128的第2个，128-256的第2个，256-512的第2个，都是outchannel=inchannel\n",
    "            \n",
    "        return nn.Sequential(\n",
    "            ResBlock(in_channels, out_channels, identity_downsample=identity_downsample, stride=stride), \n",
    "            ResBlock(out_channels, out_channels)\n",
    "        )\n",
    "    \n",
    "    def forward(self, x):\n",
    "        x = x.reshape((-1, 3, 64, 64))\n",
    "        x = self.conv1(x)\n",
    "        x = self.bn1(x)\n",
    "        x = self.relu(x)\n",
    "        x = self.maxpool(x)\n",
    "        \n",
    "        x = self.layer1(x)\n",
    "        x = self.layer2(x)\n",
    "        x = self.layer3(x)\n",
    "        x = self.layer4(x)\n",
    "        \n",
    "        x = self.avgpool(x)\n",
    "        x = x.view(x.shape[0], -1)\n",
    "        x = self.fc(x)\n",
    "        return x \n",
    "\n",
    "    \n",
    "model = ResNet_18(3,10)\n",
    "\n",
    "device = torch.device(\"cuda:0\" if torch.cuda.is_available () else \"cpu\")\n",
    "\n",
    "model = model.to(device)"
   ]
  },
  {
   "cell_type": "code",
   "execution_count": 9,
   "id": "3075c473-e39e-480c-abf8-cdcdfcf73383",
   "metadata": {},
   "outputs": [],
   "source": [
    "criterion = nn.CrossEntropyLoss()\n",
    "optimizer = torch.optim.Adam(model.parameters(), lr=0.0001)"
   ]
  },
  {
   "cell_type": "code",
   "execution_count": 11,
   "id": "6428e65c-59bf-4cae-adc6-4efead4fb448",
   "metadata": {},
   "outputs": [
    {
     "name": "stdout",
     "output_type": "stream",
     "text": [
      "Epoch 1, Average Training Loss: 10.5635, Training Accuracy: 98.6575%, Validating Accuracy: 100.0000%\n",
      "Epoch 2, Average Training Loss: 0.0469, Training Accuracy: 100.0000%, Validating Accuracy: 100.0000%\n",
      "Epoch 3, Average Training Loss: 0.0316, Training Accuracy: 100.0000%, Validating Accuracy: 100.0000%\n",
      "Epoch 4, Average Training Loss: 0.0168, Training Accuracy: 100.0000%, Validating Accuracy: 100.0000%\n",
      "Epoch 5, Average Training Loss: 0.0115, Training Accuracy: 100.0000%, Validating Accuracy: 100.0000%\n",
      "Epoch 6, Average Training Loss: 0.0089, Training Accuracy: 100.0000%, Validating Accuracy: 100.0000%\n",
      "Epoch 7, Average Training Loss: 0.0070, Training Accuracy: 100.0000%, Validating Accuracy: 100.0000%\n",
      "Epoch 8, Average Training Loss: 0.0057, Training Accuracy: 100.0000%, Validating Accuracy: 100.0000%\n",
      "Epoch 9, Average Training Loss: 0.0048, Training Accuracy: 100.0000%, Validating Accuracy: 100.0000%\n",
      "Epoch 10, Average Training Loss: 0.0041, Training Accuracy: 100.0000%, Validating Accuracy: 100.0000%\n",
      "Epoch 11, Average Training Loss: 0.0034, Training Accuracy: 100.0000%, Validating Accuracy: 100.0000%\n",
      "Epoch 12, Average Training Loss: 0.0030, Training Accuracy: 100.0000%, Validating Accuracy: 100.0000%\n",
      "Epoch 13, Average Training Loss: 0.0026, Training Accuracy: 100.0000%, Validating Accuracy: 100.0000%\n",
      "Epoch 14, Average Training Loss: 0.0022, Training Accuracy: 100.0000%, Validating Accuracy: 100.0000%\n",
      "Epoch 15, Average Training Loss: 0.0020, Training Accuracy: 100.0000%, Validating Accuracy: 100.0000%\n",
      "Epoch 16, Average Training Loss: 0.0017, Training Accuracy: 100.0000%, Validating Accuracy: 100.0000%\n",
      "Epoch 17, Average Training Loss: 0.0015, Training Accuracy: 100.0000%, Validating Accuracy: 100.0000%\n",
      "Epoch 18, Average Training Loss: 0.0013, Training Accuracy: 100.0000%, Validating Accuracy: 100.0000%\n",
      "Epoch 19, Average Training Loss: 0.0012, Training Accuracy: 100.0000%, Validating Accuracy: 100.0000%\n",
      "Epoch 20, Average Training Loss: 0.0011, Training Accuracy: 100.0000%, Validating Accuracy: 100.0000%\n",
      "Epoch 21, Average Training Loss: 0.0010, Training Accuracy: 100.0000%, Validating Accuracy: 100.0000%\n",
      "Epoch 22, Average Training Loss: 0.0009, Training Accuracy: 100.0000%, Validating Accuracy: 100.0000%\n",
      "Epoch 23, Average Training Loss: 0.0008, Training Accuracy: 100.0000%, Validating Accuracy: 100.0000%\n",
      "Epoch 24, Average Training Loss: 0.0007, Training Accuracy: 100.0000%, Validating Accuracy: 100.0000%\n",
      "Epoch 25, Average Training Loss: 0.0006, Training Accuracy: 100.0000%, Validating Accuracy: 100.0000%\n",
      "Epoch 26, Average Training Loss: 0.0006, Training Accuracy: 100.0000%, Validating Accuracy: 100.0000%\n",
      "Epoch 27, Average Training Loss: 0.0005, Training Accuracy: 100.0000%, Validating Accuracy: 100.0000%\n",
      "Epoch 28, Average Training Loss: 0.0005, Training Accuracy: 100.0000%, Validating Accuracy: 100.0000%\n",
      "Epoch 29, Average Training Loss: 0.0004, Training Accuracy: 100.0000%, Validating Accuracy: 100.0000%\n",
      "Epoch 30, Average Training Loss: 0.0004, Training Accuracy: 100.0000%, Validating Accuracy: 100.0000%\n"
     ]
    },
    {
     "data": {
      "image/png": "[encoded data removed]",
      "text/plain": [
       "<Figure size 640x480 with 1 Axes>"
      ]
     },
     "metadata": {},
     "output_type": "display_data"
    }
   ],
   "source": [
    "import torch\n",
    "import torch.nn as nn\n",
    "import torch.nn.functional as F\n",
    "import torch.optim as optim\n",
    "import numpy as np\n",
    "from torch.utils.data import TensorDataset, DataLoader\n",
    "import matplotlib.pyplot as plt\n",
    "\n",
    "acc_val=[]\n",
    "\n",
    "epoch = 30\n",
    "\n",
    "iterr=[]\n",
    "for i in range(epoch):\n",
    "    iterr.append(i)\n",
    "    \n",
    "for epoch in range(epoch):\n",
    "    statisticLoss = 0.0\n",
    "    total = 0\n",
    "    correct = 0\n",
    "    \n",
    "    # Training\n",
    "    for i, (features, labels) in enumerate(train_dataloader):\n",
    "        optimizer.zero_grad()\n",
    "        outputs = model(features)\n",
    "        loss = criterion(outputs, labels.long())\n",
    "        loss.backward()\n",
    "        optimizer.step()\n",
    "\n",
    "        statisticLoss += loss.item()\n",
    "\n",
    "        _, predicted = torch.max(outputs.data, 1)\n",
    "        total += labels.size(0)\n",
    "        correct += (predicted == labels).sum().item()\n",
    "        \n",
    "        torch.cuda.empty_cache()\n",
    "\n",
    "    trainingAcc = 100 * correct / total\n",
    "    \n",
    "    # Validating\n",
    "    total = 0\n",
    "    correct = 0\n",
    "    with torch.no_grad():\n",
    "        for i, (features, labels) in enumerate(val_dataloader):\n",
    "            outputs = model(features)\n",
    "            _, predicted = torch.max(outputs.data, 1)\n",
    "            total += labels.size(0)\n",
    "            correct += (predicted == labels).sum().item()\n",
    "    validatingAcc = 100 * correct / total\n",
    "    acc_val.append(validatingAcc)\n",
    "\n",
    "    print(\"Epoch %d, Average Training Loss: %.4lf, Training Accuracy: %.4lf%%, Validating Accuracy: %.4lf%%\" %(epoch+1, statisticLoss, trainingAcc, validatingAcc))\n",
    "\n",
    "torch.save(model, \"/root/DCGAN_64_pure_vision.pth\")\n",
    "\n",
    "\n",
    "plt.figure()\n",
    "plt.plot(iterr,acc_val)\n",
    "plt.title('Validating accuracy of visual_part')\n",
    "plt.xlabel('epoch')\n",
    "plt.ylabel('training accuracy')\n",
    "plt.savefig('/mnt/newModel/DCGAN_64_pure_vision.png')\n",
    "plt.show()"
   ]
  },
  {
   "cell_type": "code",
   "execution_count": null,
   "id": "89af6472-c872-44d5-92ef-708aa8e9fc9a",
   "metadata": {},
   "outputs": [],
   "source": []
  }
 ],
 "metadata": {
  "kernelspec": {
   "display_name": "myconda",
   "language": "python",
   "name": "myconda"
  },
  "language_info": {
   "codemirror_mode": {
    "name": "ipython",
    "version": 3
   },
   "file_extension": ".py",
   "mimetype": "text/x-python",
   "name": "python",
   "nbconvert_exporter": "python",
   "pygments_lexer": "ipython3",
   "version": "3.9.13"
  }
 },
 "nbformat": 4,
 "nbformat_minor": 5
}
