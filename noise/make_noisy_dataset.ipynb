{
 "cells": [
  {
   "cell_type": "code",
   "execution_count": 1,
   "id": "af62047e-ffdd-40ba-bf0c-b5da0a8eef08",
   "metadata": {},
   "outputs": [
    {
     "name": "stderr",
     "output_type": "stream",
     "text": [
      "/root/miniconda3/envs/myconda/lib/python3.9/site-packages/tqdm/auto.py:22: TqdmWarning: IProgress not found. Please update jupyter and ipywidgets. See https://ipywidgets.readthedocs.io/en/stable/user_install.html\n",
      "  from .autonotebook import tqdm as notebook_tqdm\n"
     ]
    }
   ],
   "source": [
    "import torch\n",
    "import torch.nn as nn\n",
    "import pdb\n",
    "\n",
    "import os\n",
    "import torch.nn.functional as F\n",
    "import torch.optim as optim\n",
    "import numpy as np\n",
    "from torch.utils.data import TensorDataset, DataLoader\n",
    "import matplotlib.pyplot as plt\n",
    "from PIL import Image"
   ]
  },
  {
   "cell_type": "code",
   "execution_count": 2,
   "id": "e3e3ad28-dc7c-49a8-82c0-32f397f390b2",
   "metadata": {},
   "outputs": [],
   "source": [
    "import sys\n",
    "sys.path.append('/mnt/fyp')  \n",
    "from preprocessing.make_dataset import GestureDataset"
   ]
  },
  {
   "cell_type": "code",
   "execution_count": 3,
   "id": "4396a191-934b-4a10-940f-a4fb55bb63b8",
   "metadata": {},
   "outputs": [],
   "source": [
    "# add Gaussian noise on test dataset (tensor)\n",
    "def add_noise(img, noise_std):\n",
    "    noise = torch.randn(img.shape[0], 3, 224, 224) * noise_std\n",
    "    noisy_img = img + noise\n",
    "    noisy_img = torch.clamp(noisy_img, 0, 255)\n",
    "    return noisy_img"
   ]
  },
  {
   "cell_type": "code",
   "execution_count": 4,
   "id": "97a861c6-beec-4d3c-abc7-33ed060182f9",
   "metadata": {},
   "outputs": [],
   "source": [
    "device = torch.device(\"cuda:0\")"
   ]
  },
  {
   "cell_type": "code",
   "execution_count": 34,
   "id": "80806040-5c9e-4aad-abad-1a1648f4c4ce",
   "metadata": {},
   "outputs": [],
   "source": [
    "# load val_loader\n",
    "loader = torch.load(\"/mnt/fyp/data/val_loader.pt\")\n",
    "\n",
    "# load trained model\n",
    "model = torch.load('/mnt/fyp/models/img_teng_imu_model.pth') # change to img_teng_imu_model.pth / img_model.pth\n",
    "\n",
    "# eval\n",
    "model.eval()\n",
    "\n",
    "noise_std = 10 # change to 0/10/20/30/40/50\n",
    "\n",
    "for idx,batch in enumerate(loader):\n",
    "    img = batch['data'][:,:3*224*224].reshape(-1,3,224,224)\n",
    "    \n",
    "    # make noisy val_imgs\n",
    "    noisy_img = add_noise(img, noise_std).to(device)\n",
    "    \n",
    "    teng = batch['data'][:,224*224*3:224*224*3+500].reshape(-1,50,10).to(device)\n",
    "    \n",
    "    imu = batch['data'][:,224*224*3+500:].reshape(-1,50,18).to(device) \n",
    "    \n",
    "    label = batch['label'].to(torch.long).to(device).squeeze()\n",
    "    \n",
    "    if idx==0:\n",
    "        gt = label\n",
    "    else:\n",
    "        gt = torch.cat((gt, label), dim=0)\n",
    "    \n",
    "    outputs = model(noisy_img, teng, imu) # for img_teng_imu_model\n",
    "    #outputs = model(noisy_img) # for img_model\n",
    "    \n",
    "    _, predicted = torch.max(outputs, 1) \n",
    "    \n",
    "    if idx==0:\n",
    "        predict = predicted\n",
    "    else:\n",
    "        predict = torch.cat((predict, predicted), dim=0)\n",
    "\n",
    "#torch.save(img_data,\"/mnt/fyp/noise/data/noisy_img_data_std10.pt\")"
   ]
  },
  {
   "cell_type": "code",
   "execution_count": 35,
   "id": "b8207f05-a0bd-4802-a09a-d5e68b546832",
   "metadata": {},
   "outputs": [
    {
     "name": "stdout",
     "output_type": "stream",
     "text": [
      "0.9987179487179487\n"
     ]
    }
   ],
   "source": [
    "# print val_accuracy\n",
    "\n",
    "val_res = (gt == predict).tolist()\n",
    "\n",
    "val_acc = sum(1 for item in val_res if item == True) / len(val_res)\n",
    "\n",
    "print(val_acc)"
   ]
  }
 ],
 "metadata": {
  "kernelspec": {
   "display_name": "myconda",
   "language": "python",
   "name": "myconda"
  },
  "language_info": {
   "codemirror_mode": {
    "name": "ipython",
    "version": 3
   },
   "file_extension": ".py",
   "mimetype": "text/x-python",
   "name": "python",
   "nbconvert_exporter": "python",
   "pygments_lexer": "ipython3",
   "version": "3.9.13"
  }
 },
 "nbformat": 4,
 "nbformat_minor": 5
}
