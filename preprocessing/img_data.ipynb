{
 "cells": [
  {
   "cell_type": "code",
   "execution_count": 1,
   "id": "ade6cbf0-4ea3-48ef-8535-4f5216e61e4b",
   "metadata": {},
   "outputs": [
    {
     "name": "stderr",
     "output_type": "stream",
     "text": [
      "/root/miniconda3/envs/myconda/lib/python3.9/site-packages/tqdm/auto.py:22: TqdmWarning: IProgress not found. Please update jupyter and ipywidgets. See https://ipywidgets.readthedocs.io/en/stable/user_install.html\n",
      "  from .autonotebook import tqdm as notebook_tqdm\n"
     ]
    }
   ],
   "source": [
    "import torch\n",
    "import torch.nn as nn\n",
    "import pdb\n",
    "\n",
    "import os\n",
    "import torch.nn.functional as F\n",
    "import torch.optim as optim\n",
    "import numpy as np\n",
    "from torch.utils.data import TensorDataset, DataLoader\n",
    "import matplotlib.pyplot as plt"
   ]
  },
  {
   "cell_type": "code",
   "execution_count": null,
   "id": "936b0e66-d43e-42cb-93d0-985cf7bf4518",
   "metadata": {},
   "outputs": [],
   "source": [
    "'''\n",
    "folder_path = '/mnt/fyp/raw_data'\n",
    "\n",
    "for i,j in enumerate(sorted(os.listdir(folder_path))):\n",
    "    sub_folder_path = os.path.join(folder_path,j)\n",
    "    jpg_files = sorted([f for f in os.listdir(sub_folder_path) if f.endswith('.jpg')])\n",
    "    for old_img_path in jpg_files:\n",
    "        number = old_img_path.split(\"_\")[1][:-3]\n",
    "        formatted_number = number.zfill(4)\n",
    "        new_img_path = old_img_path.split(\"_\")[0] + \"_\" + formatted_number + \"jpg\"\n",
    "        old_file_path = os.path.join(sub_folder_path,old_img_path)\n",
    "        new_file_path = os.path.join(sub_folder_path,new_img_path)\n",
    "        os.rename(old_file_path, new_file_path)\n",
    "'''"
   ]
  },
  {
   "cell_type": "code",
   "execution_count": null,
   "id": "4ffc02c4-8306-484a-b4d5-1756903c1f84",
   "metadata": {},
   "outputs": [],
   "source": [
    "from PIL import Image\n",
    "\n",
    "target_size = (224,224)\n",
    "folder_path = '/mnt/fyp/raw_data'\n",
    "\n",
    "num=0\n",
    "\n",
    "for i,j in enumerate(sorted(os.listdir(folder_path))):\n",
    "    sub_folder_path = os.path.join(folder_path,j)\n",
    "    jpg_files = sorted([f for f in os.listdir(sub_folder_path) if f.endswith('.jpg')])\n",
    "    \n",
    "    for jpg_file in jpg_files:\n",
    "        jpg_file_path = os.path.join(sub_folder_path, jpg_file)\n",
    "        img = Image.open(jpg_file_path) ; img = img.resize(target_size)\n",
    "        img = torch.Tensor(np.array(img)) ; img = img.reshape(1,3,224,224)\n",
    "\n",
    "        if num==0:\n",
    "            img_data = img\n",
    "        else:\n",
    "            img_data = torch.concat((img_data, img), dim=0)\n",
    "        \n",
    "        num+=1\n",
    "        "
   ]
  },
  {
   "cell_type": "code",
   "execution_count": null,
   "id": "417b8782-37b1-4a69-b0b9-1d4bdfc3e857",
   "metadata": {},
   "outputs": [],
   "source": [
    "torch.save(img_data,\"/mnt/fyp/data/img_data.pt\")"
   ]
  }
 ],
 "metadata": {
  "kernelspec": {
   "display_name": "myconda",
   "language": "python",
   "name": "myconda"
  },
  "language_info": {
   "codemirror_mode": {
    "name": "ipython",
    "version": 3
   },
   "file_extension": ".py",
   "mimetype": "text/x-python",
   "name": "python",
   "nbconvert_exporter": "python",
   "pygments_lexer": "ipython3",
   "version": "3.9.13"
  }
 },
 "nbformat": 4,
 "nbformat_minor": 5
}
