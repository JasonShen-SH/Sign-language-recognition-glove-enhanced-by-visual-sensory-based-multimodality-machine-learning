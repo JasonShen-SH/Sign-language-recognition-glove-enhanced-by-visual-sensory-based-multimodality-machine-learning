{
 "cells": [
  {
   "cell_type": "code",
   "execution_count": 1,
   "id": "b439fe9e-ade1-4803-ad04-417480d7837c",
   "metadata": {},
   "outputs": [
    {
     "name": "stderr",
     "output_type": "stream",
     "text": [
      "/root/miniconda3/envs/myconda/lib/python3.9/site-packages/tqdm/auto.py:22: TqdmWarning: IProgress not found. Please update jupyter and ipywidgets. See https://ipywidgets.readthedocs.io/en/stable/user_install.html\n",
      "  from .autonotebook import tqdm as notebook_tqdm\n"
     ]
    }
   ],
   "source": [
    "import torch\n",
    "import torch.nn as nn\n",
    "import pdb\n",
    "\n",
    "import os\n",
    "import torch.nn.functional as F\n",
    "import torch.optim as optim\n",
    "import numpy as np\n",
    "from torch.utils.data import TensorDataset, DataLoader\n",
    "import matplotlib.pyplot as plt"
   ]
  },
  {
   "cell_type": "code",
   "execution_count": 2,
   "id": "41018bcd-95f7-4d37-82bf-d4280cd9c2e5",
   "metadata": {},
   "outputs": [],
   "source": [
    "def read_teng_data(sensor):\n",
    "    i=0\n",
    "    while i<sensor.shape[0]:\n",
    "        teng_data_block = sensor[i:i+10]\n",
    "        if i==0:\n",
    "            teng_data = teng_data_block\n",
    "        else:\n",
    "            teng_data = torch.cat((teng_data,teng_data_block),dim=0)\n",
    "        i+=28 # jump (28-10=18)\n",
    "    return teng_data\n",
    "\n",
    "def read_imu_data(sensor):\n",
    "    i=10\n",
    "    while i<sensor.shape[0]:\n",
    "        imu_data_block = sensor[i:i+18]\n",
    "        if i==10:\n",
    "            imu_data = imu_data_block\n",
    "        else:\n",
    "            imu_data = torch.cat((imu_data,imu_data_block),dim=0)\n",
    "        i+=28 # jump (28-18=10)\n",
    "    return imu_data"
   ]
  },
  {
   "cell_type": "code",
   "execution_count": null,
   "id": "d9340450-f9a9-4d02-857a-bb12ed429c8f",
   "metadata": {},
   "outputs": [],
   "source": [
    "import pandas as pd\n",
    "\n",
    "folder_path = '/mnt/fyp/raw_data'\n",
    "\n",
    "for i,j in enumerate(sorted(os.listdir(folder_path))):\n",
    "    sub_folder_path = os.path.join(folder_path,j)\n",
    "    sensor_path = sorted(os.listdir(sub_folder_path))[0]\n",
    "    sensor_path = os.path.join(sub_folder_path, sensor_path)\n",
    "    try: # 如果sensor文件格式是csv_text\n",
    "        sensor = pd.read_csv(sensor_path, header=None)\n",
    "    except: # 如果sensor文件格式是Microsoft Excel\n",
    "        sensor = pd.read_excel(sensor_path, engine='xlrd', header=None)\n",
    "    \n",
    "    sensor = sensor.applymap(lambda x: float(str(x).split('.')[0] + '.' + str(x).split('.')[1]) if '.' in str(x) else x)\n",
    "    sensor = sensor.astype(\"float32\")\n",
    "    sensor = torch.tensor(sensor.values)\n",
    "\n",
    "    teng_data_per_category = read_teng_data(sensor) \n",
    "    imu_data_per_category = read_imu_data(sensor)\n",
    "    \n",
    "    if i==0:\n",
    "        teng_data = teng_data_per_category\n",
    "        imu_data = imu_data_per_category\n",
    "    else:\n",
    "        teng_data = torch.cat((teng_data,teng_data_per_category),dim=1)\n",
    "        imu_data = torch.cat((imu_data,imu_data_per_category),dim=1)\n",
    "\n",
    "teng_data = teng_data.t()\n",
    "imu_data = imu_data.t()"
   ]
  },
  {
   "cell_type": "code",
   "execution_count": null,
   "id": "796d322f-db85-4886-b86b-8cf1675f4227",
   "metadata": {},
   "outputs": [],
   "source": [
    "torch.save(teng_data,\"/mnt/fyp/data/teng_data.pt\")\n",
    "torch.save(imu_data,\"/mnt/fyp/data/imu_data.pt\")"
   ]
  }
 ],
 "metadata": {
  "kernelspec": {
   "display_name": "myconda",
   "language": "python",
   "name": "myconda"
  },
  "language_info": {
   "codemirror_mode": {
    "name": "ipython",
    "version": 3
   },
   "file_extension": ".py",
   "mimetype": "text/x-python",
   "name": "python",
   "nbconvert_exporter": "python",
   "pygments_lexer": "ipython3",
   "version": "3.9.13"
  }
 },
 "nbformat": 4,
 "nbformat_minor": 5
}
