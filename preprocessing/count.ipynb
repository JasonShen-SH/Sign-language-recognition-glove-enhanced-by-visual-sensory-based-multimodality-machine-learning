{
 "cells": [
  {
   "cell_type": "code",
   "execution_count": 1,
   "id": "00acffe6-8f06-4c5c-abc6-344f629b0404",
   "metadata": {},
   "outputs": [
    {
     "name": "stderr",
     "output_type": "stream",
     "text": [
      "/root/miniconda3/envs/myconda/lib/python3.8/site-packages/tqdm/auto.py:22: TqdmWarning: IProgress not found. Please update jupyter and ipywidgets. See https://ipywidgets.readthedocs.io/en/stable/user_install.html\n",
      "  from .autonotebook import tqdm as notebook_tqdm\n"
     ]
    }
   ],
   "source": [
    "import torch\n",
    "import torch.nn as nn\n",
    "import pdb\n",
    "\n",
    "import os\n",
    "import torch.nn.functional as F\n",
    "import torch.optim as optim\n",
    "import numpy as np\n",
    "from torch.utils.data import TensorDataset, DataLoader\n",
    "import matplotlib.pyplot as plt"
   ]
  },
  {
   "cell_type": "code",
   "execution_count": 2,
   "id": "7612ab88-f8f9-449f-959a-10e88aaf598e",
   "metadata": {},
   "outputs": [],
   "source": [
    "folder_path = '/mnt/fyp/raw_data'\n",
    "\n",
    "count = []\n",
    "\n",
    "for i,j in enumerate(sorted(os.listdir(folder_path))):\n",
    "    sub_folder_path = os.path.join(folder_path,j)\n",
    "    jpg_files = sorted([f for f in os.listdir(sub_folder_path) if f.endswith('.jpg')])\n",
    "    count.append(len(jpg_files))"
   ]
  },
  {
   "cell_type": "code",
   "execution_count": 7,
   "id": "cea57c2f-5bbf-46b5-965f-ce1d48f94dd7",
   "metadata": {},
   "outputs": [],
   "source": [
    "torch.save(count,\"/mnt/fyp/data/count.pt\")"
   ]
  }
 ],
 "metadata": {
  "kernelspec": {
   "display_name": "myconda",
   "language": "python",
   "name": "myconda"
  },
  "language_info": {
   "codemirror_mode": {
    "name": "ipython",
    "version": 3
   },
   "file_extension": ".py",
   "mimetype": "text/x-python",
   "name": "python",
   "nbconvert_exporter": "python",
   "pygments_lexer": "ipython3",
   "version": "3.9.13"
  }
 },
 "nbformat": 4,
 "nbformat_minor": 5
}
