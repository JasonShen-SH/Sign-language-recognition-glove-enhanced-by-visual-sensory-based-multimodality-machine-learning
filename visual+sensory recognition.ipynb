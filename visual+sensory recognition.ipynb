{
 "cells": [
  {
   "cell_type": "code",
   "execution_count": null,
   "id": "5e5f0256",
   "metadata": {},
   "outputs": [],
   "source": [
    "'''\n",
    "该部分实现的内容包括:\n",
    "1) 对于一个视频去抽帧,抽取到的每一帧照片进行识别\n",
    "2) 手机上上传来的照片,进行识别\n",
    "3) 融合视觉和触觉的特征"
   ]
  },
  {
   "cell_type": "code",
   "execution_count": 1,
   "id": "d591ce91",
   "metadata": {},
   "outputs": [],
   "source": [
    "# resnet-18 \n",
    "\n",
    "import torch\n",
    "import torch.nn as nn\n",
    "import torch.nn.functional as F\n",
    "\n",
    "#定义残差块ResBlock\n",
    "\n",
    "class ResBlock(nn.Module):\n",
    "    def __init__(self, inchannel, outchannel, identity_downsample=None, stride=1):\n",
    "        super(ResBlock, self).__init__()\n",
    "        \n",
    "        #这里定义了残差块内连续的2个卷积层\n",
    "        self.conv1 = nn.Conv2d(inchannel,outchannel,kernel_size=3,stride=stride,padding=1)\n",
    "        self.bn1 = nn.BatchNorm2d(outchannel)\n",
    "        self.conv2 = nn.Conv2d(outchannel,outchannel,kernel_size=3,stride=1,padding=1)\n",
    "        self.bn2 = nn.BatchNorm2d(outchannel)\n",
    "        self.relu = nn.ReLU()\n",
    "        self.identity_downsample = identity_downsample\n",
    "            \n",
    "    def forward(self, x):\n",
    "        identity = x\n",
    "        x = self.conv1(x)\n",
    "        x = self.bn1(x)\n",
    "        x = self.relu(x)\n",
    "        x = self.conv2(x)\n",
    "        x = self.bn2(x)\n",
    "        \n",
    "        # if identity_downsample is not None as default, then:\n",
    "        if self.identity_downsample is not None:\n",
    "            identity = self.identity_downsample(identity)\n",
    "        \n",
    "        x = x + identity\n",
    "        x = self.relu(x)\n",
    "        \n",
    "        return x"
   ]
  },
  {
   "cell_type": "code",
   "execution_count": 2,
   "id": "b93e7f4e",
   "metadata": {},
   "outputs": [],
   "source": [
    "class ResNet_18(nn.Module):\n",
    "    \n",
    "    def __init__(self, image_channels, num_classes):\n",
    "        \n",
    "        super(ResNet_18, self).__init__()\n",
    "        # self.in_channels = 64\n",
    "        self.conv1 = nn.Conv2d(image_channels, 64, kernel_size=7, stride=2, padding=3)\n",
    "        self.bn1 = nn.BatchNorm2d(64)\n",
    "        self.relu = nn.ReLU()\n",
    "        self.maxpool = nn.MaxPool2d(kernel_size=3, stride=2, padding=1)\n",
    "        \n",
    "        #resnet layers\n",
    "        self.layer1 = self.__make_layer(64, 64, stride=1)\n",
    "        self.layer2 = self.__make_layer(64, 128, stride=2)\n",
    "        self.layer3 = self.__make_layer(128, 256, stride=2)\n",
    "        self.layer4 = self.__make_layer(256, 512, stride=2)\n",
    "        \n",
    "        self.avgpool = nn.AdaptiveAvgPool2d((1, 1))\n",
    "        self.fc = nn.Linear(512, num_classes)\n",
    "        \n",
    "    def identity_downsample(self, in_channels, out_channels):\n",
    "        return nn.Sequential(\n",
    "            nn.Conv2d(in_channels, out_channels, kernel_size=3, stride=2, padding=1), \n",
    "            nn.BatchNorm2d(out_channels)\n",
    "        )  \n",
    "    \n",
    "    def __make_layer(self, in_channels, out_channels, stride):\n",
    "        \n",
    "        identity_downsample = None #默认是none,即identity-free shortcut\n",
    "        if stride != 1:\n",
    "            identity_downsample = self.identity_downsample(in_channels, out_channels)\n",
    "        #对于64-128.128-256.256-512的第一个block,有stride=2,且outchannel=2*inchannel；\n",
    "        #其他的block,64-64的全部2个,64-128的第2个，128-256的第2个，256-512的第2个，都是outchannel=inchannel\n",
    "            \n",
    "        return nn.Sequential(\n",
    "            ResBlock(in_channels, out_channels, identity_downsample=identity_downsample, stride=stride), \n",
    "            ResBlock(out_channels, out_channels)\n",
    "        )\n",
    "    \n",
    "    def forward(self, x):\n",
    "        \n",
    "        x = self.conv1(x)\n",
    "        x = self.bn1(x)\n",
    "        x = self.relu(x)\n",
    "        x = self.maxpool(x)\n",
    "        \n",
    "        x = self.layer1(x)\n",
    "        x = self.layer2(x)\n",
    "        x = self.layer3(x)\n",
    "        x = self.layer4(x)\n",
    "        \n",
    "        x = self.avgpool(x)\n",
    "        x = x.view(x.shape[0], -1)\n",
    "        x = self.fc(x)\n",
    "        return x \n",
    "    "
   ]
  },
  {
   "cell_type": "code",
   "execution_count": 3,
   "id": "c7f56cc7",
   "metadata": {},
   "outputs": [],
   "source": [
    "#model = ResNet_18(3,10)\n",
    "#model.load_state_dict(torch.load('best_sign_model.pth'))\n",
    "model = torch.load(\"best_sign_model.pth\")\n",
    "device = torch.device(\"cuda:0\" if torch.cuda.is_available () else \"cpu\")\n",
    "model=model.to(device)"
   ]
  },
  {
   "cell_type": "code",
   "execution_count": null,
   "id": "06b58c6e",
   "metadata": {},
   "outputs": [],
   "source": [
    "# 视频抽取帧,并单张照片识别\n",
    "\n",
    "import cv2 \n",
    "from PIL import Image\n",
    "import numpy as np\n",
    "from torchvision import transforms\n",
    "\n",
    "cap = cv2.VideoCapture('self_made_signs/dark.mp4')  \n",
    "\n",
    "normalize = transforms.Normalize([0.5, 0.5, 0.5], [0.5, 0.5, 0.5])\n",
    "val_transform = transforms.Compose([transforms.ToTensor(),transforms.Resize((224,224)),normalize])\n",
    "\n",
    "res=[]\n",
    "\n",
    "while(cap.isOpened()):  \n",
    "    ret, frame = cap.read()\n",
    "\n",
    "    frame = val_transform(frame)\n",
    "    frame = torch.unsqueeze(frame, 0) \n",
    "    \n",
    "    output = model(frame)\n",
    "    _, pred = torch.max(output, axis=1)\n",
    "    print(pred)\n",
    "    res.append(pred)  \n",
    "\n",
    "cap.release()  \n",
    "cv2.destroyAllWindows()"
   ]
  },
  {
   "cell_type": "code",
   "execution_count": 1,
   "id": "9ac936ea",
   "metadata": {},
   "outputs": [
    {
     "ename": "NameError",
     "evalue": "name 'torch' is not defined",
     "output_type": "error",
     "traceback": [
      "\u001b[1;31m---------------------------------------------------------------------------\u001b[0m",
      "\u001b[1;31mNameError\u001b[0m                                 Traceback (most recent call last)",
      "\u001b[1;32m~\\AppData\\Local\\Temp\\ipykernel_61084\\248866535.py\u001b[0m in \u001b[0;36m<module>\u001b[1;34m\u001b[0m\n\u001b[0;32m     15\u001b[0m \u001b[1;31m#施加transform\u001b[0m\u001b[1;33m\u001b[0m\u001b[1;33m\u001b[0m\u001b[0m\n\u001b[0;32m     16\u001b[0m \u001b[0mimg\u001b[0m \u001b[1;33m=\u001b[0m \u001b[0mval_transform\u001b[0m\u001b[1;33m(\u001b[0m\u001b[0mimg\u001b[0m\u001b[1;33m)\u001b[0m\u001b[1;33m\u001b[0m\u001b[1;33m\u001b[0m\u001b[0m\n\u001b[1;32m---> 17\u001b[1;33m \u001b[0mimg\u001b[0m \u001b[1;33m=\u001b[0m \u001b[0mtorch\u001b[0m\u001b[1;33m.\u001b[0m\u001b[0mreshape\u001b[0m\u001b[1;33m(\u001b[0m\u001b[0mimg\u001b[0m\u001b[1;33m,\u001b[0m\u001b[1;33m(\u001b[0m\u001b[1;36m1\u001b[0m\u001b[1;33m,\u001b[0m\u001b[1;36m3\u001b[0m\u001b[1;33m,\u001b[0m\u001b[1;36m224\u001b[0m\u001b[1;33m,\u001b[0m\u001b[1;36m224\u001b[0m\u001b[1;33m)\u001b[0m\u001b[1;33m)\u001b[0m\u001b[1;33m\u001b[0m\u001b[1;33m\u001b[0m\u001b[0m\n\u001b[0m\u001b[0;32m     18\u001b[0m \u001b[1;33m\u001b[0m\u001b[0m\n\u001b[0;32m     19\u001b[0m \u001b[1;31m#预测\u001b[0m\u001b[1;33m\u001b[0m\u001b[1;33m\u001b[0m\u001b[0m\n",
      "\u001b[1;31mNameError\u001b[0m: name 'torch' is not defined"
     ]
    }
   ],
   "source": [
    "# 单张照片识别\n",
    "\n",
    "import cv2 \n",
    "from PIL import Image\n",
    "import numpy as np\n",
    "from torchvision import transforms\n",
    "\n",
    "#实时拍摄的照片\n",
    "img = Image.open(\"test.png\");img = img.resize((224,224))\n",
    "\n",
    "#定义transform\n",
    "normalize = transforms.Normalize([0.5, 0.5, 0.5], [0.5, 0.5, 0.5])\n",
    "val_transform = transforms.Compose([transforms.Resize((224,224)),transforms.ToTensor(),normalize])\n",
    "\n",
    "#施加transform\n",
    "img = val_transform(img)\n",
    "img = torch.reshape(img,(1,3,224,224))\n",
    "\n",
    "#预测\n",
    "output = model(img)\n",
    "_, pred = torch.max(output, axis=1)\n",
    "#print(pred)\n",
    "\n",
    "pred = pred.item()\n",
    "print(pred)"
   ]
  },
  {
   "cell_type": "code",
   "execution_count": 29,
   "id": "189120a0",
   "metadata": {},
   "outputs": [],
   "source": [
    "import csv\n",
    "with open('SV-dataset/part1/Somatosensory_data2.csv', newline='') as csvfile:  \n",
    "    reader = csv.reader(csvfile)\n",
    "    somato = list(reader)\n",
    "    for i in range(0,3000,1):\n",
    "        for j in range(0,6,1):\n",
    "            somato[i][j] = float(somato[i][j])"
   ]
  },
  {
   "cell_type": "code",
   "execution_count": 30,
   "id": "a274baeb",
   "metadata": {},
   "outputs": [
    {
     "name": "stdout",
     "output_type": "stream",
     "text": [
      "[0.02846, 1.06148, 0.94354, 0.98445, 1.04778, 0.0]\n",
      "[0.16886, 1.00104, 1.00934, 0.96994, 0.96839, 0]\n"
     ]
    }
   ],
   "source": [
    "print(somato[0])\n",
    "\n",
    "somato_index = (num-0)*300 + img_index\n",
    "out_somato = somato[somato_index] ;  out_somato[-1] = int(out_somato[-1]) \n",
    "print(out_somato)"
   ]
  },
  {
   "cell_type": "code",
   "execution_count": 24,
   "id": "30627c6b",
   "metadata": {},
   "outputs": [],
   "source": [
    "category = [\"bowl\",\"dog\",\"feel\",\"get\",\"I\",\"know\",\"like\",\"must\",\"sick\",\"you\"]"
   ]
  },
  {
   "cell_type": "code",
   "execution_count": 42,
   "id": "18e66592",
   "metadata": {},
   "outputs": [],
   "source": [
    "out_for_all = []\n",
    "\n",
    "for num in range(0,10,1):\n",
    "    for img_index in range(1,91,1): #1→90\n",
    "        # 图像读取和预处理\n",
    "        img_path = 'self_made_signs' + '/' + category[num] + '/' + str(img_index) + \".png\"\n",
    "        img = Image.open(img_path)\n",
    "        normalize = transforms.Normalize([0.5, 0.5, 0.5], [0.5, 0.5, 0.5])\n",
    "        transform = transforms.Compose([transforms.Resize((224,224)),transforms.ToTensor(),normalize])\n",
    "        img = transform(img) ; img = torch.reshape(img,(1,3,224,224))\n",
    "        # 加载模型，进入测试模式\n",
    "        model = torch.load('best_sign_model.pth')\n",
    "        device = torch.device(\"cuda:0\" if torch.cuda.is_available () else \"cpu\") ; model = model.to(device)\n",
    "        model.eval()\n",
    "        # 得到model的1*10的tensor\n",
    "        with torch.no_grad():\n",
    "            img=img.to(device)\n",
    "            out=model(img)\n",
    "            # _, pred = torch.max(output, axis=1);print(pred)\n",
    "            out=out.tolist(); out=out[0]\n",
    "            out_img = out\n",
    "            \n",
    "        somato_index = (num-0)*300 + (img_index-1)\n",
    "        out_somato = somato[somato_index] ;  out_somato[-1] = int(out_somato[-1]) \n",
    "        \n",
    "        out_concate = out_img + out_somato\n",
    "        out_for_all.append(out_concate)"
   ]
  },
  {
   "cell_type": "code",
   "execution_count": 41,
   "id": "c18d003c",
   "metadata": {},
   "outputs": [],
   "source": [
    "path  = \"concate.csv\"\n",
    "with open(path,'w',newline='') as f:\n",
    "    csv_write = csv.writer(f)\n",
    "    #csv_write.writerow([\"visual[0]\",\"visual[1]\",\"visual[2]\",\"visual[3]\",\"visual[4]\",\"visual[5]\",\"visual[6]\",\"visual[7]\",\"visual[8]\",\"visual[9]\",\"somato[0]\",\"somato[1]\",\"somato[2]\",\"somato[3]\",\"somato[4]\",\"true_index\"]) #首行\n",
    "    csv_write.writerows(out_for_all)"
   ]
  }
 ],
 "metadata": {
  "kernelspec": {
   "display_name": "Python 3 (ipykernel)",
   "language": "python",
   "name": "python3"
  },
  "language_info": {
   "codemirror_mode": {
    "name": "ipython",
    "version": 3
   },
   "file_extension": ".py",
   "mimetype": "text/x-python",
   "name": "python",
   "nbconvert_exporter": "python",
   "pygments_lexer": "ipython3",
   "version": "3.9.13"
  }
 },
 "nbformat": 4,
 "nbformat_minor": 5
}
